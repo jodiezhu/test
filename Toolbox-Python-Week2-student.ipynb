{
 "cells": [
  {
   "cell_type": "markdown",
   "metadata": {},
   "source": [
    "-------------\n",
    "<h1 align='center'> Data Science Toolbox: Python Day 2 </h1>\n",
    "\n",
    "<center align=\"left\"> Developed by: </center>\n",
    "<center align=\"left\"> WeCloudData Academy </center>\n",
    "<img src='../images/wcd_logo.png' width='50%'>\n",
    "\n",
    "<p style=\"text-align: center;\"> \n",
    "    1. Data type: string <br>\n",
    "    2. In-class Project 1: Manipulating Tweets with Python <br>\n",
    "    3. In-class Project 2: Web Scraper <br>\n",
    "    4. In-class Project 3: Private Vehicles Prediction\n",
    "\n",
    "\n",
    "    </center>\n",
    "</p>\n",
    "\n",
    "\n",
    "----------"
   ]
  },
  {
   "cell_type": "markdown",
   "metadata": {},
   "source": [
    "## Dictionaries (Maps)\n",
    "\n",
    "It is best to think of a dictionary as an unordered set of key: value pairs, with the requirement that the keys are unique (within one dictionary).\n",
    "\n",
    "* Another **mutable** date type.\n",
    "* Nice to use one data structure (no separate lists) and index item of interest directly.\n",
    "\n",
    "<img src='../images/dictionary.png' width='60%'>"
   ]
  },
  {
   "cell_type": "markdown",
   "metadata": {},
   "source": [
    "#### Example 1: create above information (food name and its value)\n",
    "##### Solution1 : list\n",
    "If we use lists to store above information. We need to....\n",
    "\n",
    "* a\tseparate list for each item\t\n",
    "* each list\tmust have the same length\t\n",
    "* info stored across lists at same index, each index refers\tto info\tfor\ta different\titem.\t"
   ]
  },
  {
   "cell_type": "code",
   "execution_count": null,
   "metadata": {},
   "outputs": [],
   "source": [
    "#list 1\n",
    "item_list=[\"Eggs\",\"Milk\",\"Cheese\",\"Yogurt\",\"Butter\",\"More Cheese\"]\n",
    "#list 2\n",
    "value_list=[2.59,3.19,4.80,1.35,2.59,6.19]\n",
    "\n",
    "def get_value(name,item_list, value_list):\n",
    "    i = item_list.index(name)\n",
    "    value = value_list[i]\n",
    "    return (name, value)\n",
    "\n",
    "get_value(\"Butter\",item_list,value_list)"
   ]
  },
  {
   "cell_type": "markdown",
   "metadata": {},
   "source": [
    "###### Solution 2: dictionary"
   ]
  },
  {
   "cell_type": "code",
   "execution_count": null,
   "metadata": {},
   "outputs": [],
   "source": [
    "value = {\"Eggs\":2.59,\"Milk\":3.19,\"Cheese\":4.80,\"Sugar\":4.80,\"Yogurt\":1.35,\"Butter\":2.59,\"More Cheese\":6.19} \n",
    "#Braces {} represent dictionaries; Brackets [] are for lists; Parentheses () are for tuples.\n",
    "\n",
    "value[\"Butter\"]"
   ]
  },
  {
   "cell_type": "markdown",
   "metadata": {},
   "source": [
    "### Dictionaries -add entries"
   ]
  },
  {
   "cell_type": "code",
   "execution_count": null,
   "metadata": {
    "scrolled": false
   },
   "outputs": [],
   "source": [
    "#add an entry\n",
    "value['Apple'] = 3.99\n",
    "value"
   ]
  },
  {
   "cell_type": "markdown",
   "metadata": {},
   "source": [
    "### Dictionaries -delete entries"
   ]
  },
  {
   "cell_type": "code",
   "execution_count": null,
   "metadata": {},
   "outputs": [],
   "source": [
    "#delete entry\n",
    "del(value['Apple'])\n",
    "value"
   ]
  },
  {
   "cell_type": "markdown",
   "metadata": {},
   "source": [
    "### Dictionaries -test key"
   ]
  },
  {
   "cell_type": "code",
   "execution_count": null,
   "metadata": {},
   "outputs": [],
   "source": [
    "#test if key in dicSonary\n",
    "\n",
    "\"Orange\" in value\n",
    "\"Milk\" in value"
   ]
  },
  {
   "cell_type": "markdown",
   "metadata": {},
   "source": [
    "### Dictionaries -get all keys"
   ]
  },
  {
   "cell_type": "code",
   "execution_count": null,
   "metadata": {},
   "outputs": [],
   "source": [
    "#get all keys (but order not promised)\n",
    "value.keys()"
   ]
  },
  {
   "cell_type": "markdown",
   "metadata": {},
   "source": [
    "### Dictionaries -get keys based on the value criteria"
   ]
  },
  {
   "cell_type": "code",
   "execution_count": null,
   "metadata": {},
   "outputs": [],
   "source": [
    "for name, price in value.items():\n",
    "    if price == 4.80:\n",
    "        print (name)      "
   ]
  },
  {
   "cell_type": "markdown",
   "metadata": {},
   "source": [
    "### Dictionaries -get all values"
   ]
  },
  {
   "cell_type": "code",
   "execution_count": null,
   "metadata": {},
   "outputs": [],
   "source": [
    "#get all values (but order not promised)\n",
    "value.values()"
   ]
  },
  {
   "cell_type": "markdown",
   "metadata": {},
   "source": [
    "> Keys and Values in Dictionaries (But orders are not promised!):\n",
    "1. Keys:\n",
    " * must be unique\n",
    " * **immutable** (number, string, tuple, bool)\n",
    "2. Values:\n",
    " * **mutable**\n",
    " * can be duplicates\t\n",
    " * can be number, string, lists, even other\tdictionaries!\n"
   ]
  },
  {
   "cell_type": "markdown",
   "metadata": {},
   "source": [
    "Example for acceptable dictionary"
   ]
  },
  {
   "cell_type": "code",
   "execution_count": null,
   "metadata": {
    "scrolled": true
   },
   "outputs": [],
   "source": [
    "d = {4:{1:0}, (1,3):\"twelve\", 'const':[3.14,2.7,8.44]}"
   ]
  },
  {
   "cell_type": "code",
   "execution_count": null,
   "metadata": {},
   "outputs": [],
   "source": [
    "type(d)"
   ]
  },
  {
   "cell_type": "markdown",
   "metadata": {},
   "source": [
    "-----\n",
    "# Strings\n",
    "\n",
    "String can think of as a **sequence of case sensitive characters**. And strings are **“immutable”** – cannot be modified."
   ]
  },
  {
   "cell_type": "markdown",
   "metadata": {},
   "source": [
    "## 1.1 Compare strings\n",
    "\n",
    "We can compare strings with ==, >, <, != etc. Python compares string **lexicographically** i.e using ASCII value of the characters.\n",
    "\n",
    "### Example\n",
    "Suppose you have str1  as \"Mary\"  and str2  as \"Mac\" . "
   ]
  },
  {
   "cell_type": "code",
   "execution_count": null,
   "metadata": {},
   "outputs": [],
   "source": [
    "str1=\"Mary\"\n",
    "str2=\"Mac\"\n",
    "str3=\"Maay\"\n",
    "\n",
    "str1>str2 #Not compare the length. It is compare the ASCII value\n",
    "str3>str2"
   ]
  },
  {
   "cell_type": "markdown",
   "metadata": {},
   "source": [
    "> The first two characters from str1  and str2 ( M  and M ) are compared. As they are equal, the second two characters are compared. Because they are also equal, the third two characters ( r  and c ) are compared. And because 'r'  has greater ASCII value than 'c' , str1  is greater than str2 ."
   ]
  },
  {
   "cell_type": "code",
   "execution_count": null,
   "metadata": {},
   "outputs": [],
   "source": [
    "s=\"abc\"\n",
    "len(s)"
   ]
  },
  {
   "cell_type": "markdown",
   "metadata": {},
   "source": [
    "## 1.2 String - index\n",
    "\n",
    "Square brackets used to perform indexing into a string to get the value at a certain index/position \n",
    "<img src='../images/string_index.png' width='50%'>"
   ]
  },
  {
   "cell_type": "code",
   "execution_count": null,
   "metadata": {},
   "outputs": [],
   "source": [
    "s=\"abc\"\n",
    "s[0]\n",
    "# s[1]\n",
    "# s[2]\n",
    "s[3] #out of bound!\n",
    "# s[-1]\n",
    "# s[-2]\n",
    "# s[-3]"
   ]
  },
  {
   "cell_type": "markdown",
   "metadata": {},
   "source": [
    "## 1.3 String - slicing\n",
    "slice strings using [start:stop:step]"
   ]
  },
  {
   "cell_type": "code",
   "execution_count": null,
   "metadata": {},
   "outputs": [],
   "source": [
    "s=\"abcdefghi\"\n",
    "s[1:5]\n",
    "s[1:5:2]"
   ]
  },
  {
   "cell_type": "markdown",
   "metadata": {},
   "source": [
    "> if give two numbers, [start:stop], step=1 by default"
   ]
  },
  {
   "cell_type": "markdown",
   "metadata": {},
   "source": [
    "you can also omit numbers and leave just colons"
   ]
  },
  {
   "cell_type": "code",
   "execution_count": null,
   "metadata": {},
   "outputs": [],
   "source": [
    "s=\"abcdefghi\"\n",
    "s[:]\n",
    "# * you can also omit numbers and leave just colons"
   ]
  },
  {
   "cell_type": "markdown",
   "metadata": {},
   "source": [
    "## 1.4 String - immutable\n",
    "Strings are “immutable” – cannot be modified "
   ]
  },
  {
   "cell_type": "code",
   "execution_count": null,
   "metadata": {
    "scrolled": true
   },
   "outputs": [],
   "source": [
    "s=\"Jelly\"\n",
    "s[0]=\"B\" #raise an error!"
   ]
  },
  {
   "cell_type": "code",
   "execution_count": null,
   "metadata": {},
   "outputs": [],
   "source": [
    "#instead we could create a new variable and cover s\n",
    "s=\"B\"+s[1:len(s)]\n",
    "s"
   ]
  },
  {
   "cell_type": "markdown",
   "metadata": {},
   "source": [
    "## 1.5 String - other operations\n",
    "\n",
    "Also, python has several built-in functions associated with the string data type. These functions let us easily modify and manipulate strings. For example, s.lower(),s.upper(), s.capitalize(), s.strip(), s.startwith(), s.endswith(), s.replace(), s.split(), s.join()\n",
    "\n",
    "For details, please check:[Strings](https://docs.python.org/2/library/string.html)\n"
   ]
  },
  {
   "cell_type": "markdown",
   "metadata": {},
   "source": [
    "#### Example\n",
    "* convert string to list with list(s)"
   ]
  },
  {
   "cell_type": "code",
   "execution_count": null,
   "metadata": {
    "scrolled": true
   },
   "outputs": [],
   "source": [
    "s=\"Hey! We are in 2017\" #s is a string, inside quotes\n",
    "list(s) #returns a list with every character from s an element in L"
   ]
  },
  {
   "cell_type": "markdown",
   "metadata": {},
   "source": [
    "* use s.split(), to split a string on a character parameter"
   ]
  },
  {
   "cell_type": "code",
   "execution_count": null,
   "metadata": {
    "scrolled": true
   },
   "outputs": [],
   "source": [
    "s.split() #splits on spaces if called without a parameter\n",
    "s.split(\"!\") #split by exclamation mark\n"
   ]
  },
  {
   "cell_type": "markdown",
   "metadata": {},
   "source": [
    "* use ''.join(L) to turn a list of characters into a string"
   ]
  },
  {
   "cell_type": "code",
   "execution_count": null,
   "metadata": {},
   "outputs": [],
   "source": [
    "L=['a','b','c','d']\n",
    "''.join(L)\n",
    "'!'.join(L)       "
   ]
  },
  {
   "cell_type": "markdown",
   "metadata": {},
   "source": [
    "## 1.6 Strings and Loops\n",
    "\n",
    "* for loops have a loop variable that iterates over a set of values\n",
    "* range(start:end:step) is a way to iterate over numbers, but a for loop variable can iterate over **any set of values**, not just numbers!\n",
    "\n",
    "### Example\n",
    "\n",
    "We want to figure out if there exists letters \"b\" or \"d\" inside the string.\n",
    "\n",
    "* these two code snippets do the same thing\n",
    "* bottom one is more “pythonic”"
   ]
  },
  {
   "cell_type": "code",
   "execution_count": null,
   "metadata": {},
   "outputs": [],
   "source": [
    "#Method 1\n",
    "s = \"abcde\"\n",
    "\n",
    "for index in range(len(s)):\n",
    "    if s[index] == 'b' or s[index] == 'd':\n",
    "        print(\"There is an b or d\")"
   ]
  },
  {
   "cell_type": "code",
   "execution_count": null,
   "metadata": {},
   "outputs": [],
   "source": [
    "#Method 2\n",
    "s = \"abcde\"\n",
    "\n",
    "for char in s:\n",
    "    if char == 'b' or char == 'd':\n",
    "        print(\"There is an b or d\")"
   ]
  },
  {
   "cell_type": "markdown",
   "metadata": {},
   "source": [
    "### Exercise: Strings \n",
    "\n",
    "You are given a string representing an attendance record for a student. The record only contains the following **three characters**:\n",
    "\n",
    "**'A' : Absent.\n",
    "'L' : Late.\n",
    "'P' : Present.**\n",
    "\n",
    "A student could be rewarded if his attendance record **doesn't contain more than one 'A' (absent) or more than two continuous 'L' (late)**.\n",
    "\n",
    "Question: You need to return whether the student could be rewarded according to his attendance record.\n",
    "\n",
    "<img src='../images/Attendance Record.gif' width='30%'>\n",
    "\n",
    "\n"
   ]
  },
  {
   "cell_type": "markdown",
   "metadata": {},
   "source": [
    "### Example 1:\n",
    "**Input**: \"PPALLP\"\n",
    "\n",
    "**Output**: True"
   ]
  },
  {
   "cell_type": "markdown",
   "metadata": {},
   "source": [
    "### Example 2:\n",
    "**Input**: \"PPALLL\"\n",
    "\n",
    "**Output**: False"
   ]
  },
  {
   "cell_type": "code",
   "execution_count": null,
   "metadata": {},
   "outputs": [],
   "source": [
    "def checkRecord(s):\n",
    "#         \"\"\"\n",
    "#         :type s: str\n",
    "#         :rtype: bool\n",
    "#         \"\"\"\n",
    "####Write your function below#####\n",
    "\n",
    "\n",
    "\n",
    "\n",
    "\n"
   ]
  },
  {
   "cell_type": "code",
   "execution_count": null,
   "metadata": {
    "scrolled": true
   },
   "outputs": [],
   "source": [
    "#call the function\n",
    "checkRecord(\"PPALLP\")"
   ]
  },
  {
   "cell_type": "markdown",
   "metadata": {},
   "source": [
    "----\n",
    "# Project 1 - Manipulating Tweets with Python\n",
    "\n",
    "* File Handling \n",
    "* Strings \n",
    "* For loop \n",
    "* List & List comprehension \n",
    "\n",
    "<img src='../images/tweets.png' width='50%'>\n",
    "\n",
    "    "
   ]
  },
  {
   "cell_type": "markdown",
   "metadata": {},
   "source": [
    "## 2.1. Python File Handling\n",
    "Whatever analysis you do, the first step is to access the data. The data can be opened from a file, read from a database or created programmatically. In this exercise, we will learn how to read data from a file and write data to a file. \n",
    "\n",
    "* The `open()` function opens and returns a file handle that can be used to read or write a file in the usual way. \n",
    "* The code **`f = open('filepath/filename', 'r')`** opens the file into the variable **`f`**, ready for reading operations, and use **`f.close()`** when finished. \n",
    "  * 'r' when the file will only be read\n",
    "  * 'w' for only writing (an existing file with the same name will be erased)\n",
    "  * 'a' opens the file for appending; any data written to the file is automatically added to the end. \n",
    "  * 'r+' opens the file for both reading and writing.\n",
    "  * 'b' binary mode\n",
    "  * The special mode 'rU' is the \"Universal\" option for text files where it's smart about converting different line-endings so they always come through as a simple '\\n'. "
   ]
  },
  {
   "cell_type": "markdown",
   "metadata": {},
   "source": [
    "### 2.1.1 Read file"
   ]
  },
  {
   "cell_type": "code",
   "execution_count": 1,
   "metadata": {},
   "outputs": [
    {
     "data": {
      "text/plain": [
       "_io.TextIOWrapper"
      ]
     },
     "execution_count": 1,
     "metadata": {},
     "output_type": "execute_result"
    }
   ],
   "source": [
    "# Read File One Line At a Time\n",
    "\n",
    "filename = '../data/full_text_small.txt'\n",
    "\n",
    "f = open(filename, 'r', encoding=\"latin-1\")      # open the file for read\n",
    "\n",
    "type(f)"
   ]
  },
  {
   "cell_type": "markdown",
   "metadata": {},
   "source": [
    "Print out all lines in the file"
   ]
  },
  {
   "cell_type": "code",
   "execution_count": 2,
   "metadata": {},
   "outputs": [
    {
     "name": "stdout",
     "output_type": "stream",
     "text": [
      "USER_79321756\t2010-03-03T04:15:26\tÃÂT: 47.528139,-122.197916\t47.528139\t-122.197916\tRT @USER_2ff4faca: IF SHE DO IT 1 MORE TIME......IMA KNOCK HER DAMN KOOFIE OFF.....ON MY MOMMA&gt;&gt;haha. #cutthatout\n",
      "\n",
      "USER_79321756\t2010-03-03T04:55:32\tÃÂT: 47.528139,-122.197916\t47.528139\t-122.197916\t@USER_77a4822d @USER_2ff4faca okay:) lol. Saying ok to both of yall about to different things!:*\n",
      "\n",
      "USER_79321756\t2010-03-03T05:13:34\tÃÂT: 47.528139,-122.197916\t47.528139\t-122.197916\tRT @USER_5d4d777a: YOURE A FAG FOR GETTING IN THE MIDDLE OF THIS @USER_ab059bdc WHO THE FUCK ARE YOU ? A FUCKING NOBODY !!!!&gt;&gt;Lol! Dayum! Aye!\n",
      "\n",
      "USER_79321756\t2010-03-03T05:28:02\tÃÂT: 47.528139,-122.197916\t47.528139\t-122.197916\t@USER_77a4822d yea ok..well answer that cheap as Sweden phone you came up on when I call.\n",
      "\n",
      "USER_79321756\t2010-03-03T05:56:13\tÃÂT: 47.528139,-122.197916\t47.528139\t-122.197916\tA sprite can disappear in her mouth - lil kim hmmmmm the can not the bottle right?\n",
      "\n",
      "USER_79321756\t2010-03-03T16:52:44\tÃÂT: 47.528139,-122.197916\t47.528139\t-122.197916\tLmao! I still get txt when AJ tweets before they even post (mistake) ha. And the one I just got has me dyin! @USER_a5b463b2 what's ur issue!\n",
      "\n",
      "USER_79321756\t2010-03-03T16:57:24\tÃÂT: 47.528139,-122.197916\t47.528139\t-122.197916\tAlright twitters tryna take me over!\n",
      "\n",
      "USER_79321756\t2010-03-03T20:20:40\tÃÂT: 47.528139,-122.197916\t47.528139\t-122.197916\tJust got to work. Got my pizza bagel and my raspberry iced tea:). Pulling up my systems..interview not til 2. I just wanna get it done!:D\n",
      "\n",
      "USER_79321756\t2010-03-03T23:23:33\tÃÂT: 47.528139,-122.197916\t47.528139\t-122.197916\tJust got a txt from my cousin! Yes! So happy for you @USER_a9fe21e9 let's get it!\n",
      "\n",
      "USER_79321756\t2010-03-03T23:37:36\tÃÂT: 47.528139,-122.197916\t47.528139\t-122.197916\tWhy is this woman in the bathroom everytime I'm in the bathroom..!? Stinkn up allll the stalls! Ha.\n",
      "\n",
      "USER_79321756\t2010-03-04T01:32:24\tÃÂT: 47.528139,-122.197916\t47.528139\t-122.197916\t@USER_d5d93fec shit they everywhere..\n",
      "\n",
      "USER_79321756\t2010-03-04T01:55:55\tÃÂT: 47.528139,-122.197916\t47.528139\t-122.197916\tRT @USER_dc5e5498: Drop and give me 50....\n",
      "\n",
      "USER_79321756\t2010-03-04T05:09:29\tÃÂT: 47.528139,-122.197916\t47.528139\t-122.197916\tI said u got a swisher from redmond!? He said nah kirkland! Lol..ooooooooOkay!\n",
      "\n",
      "USER_79321756\t2010-03-04T05:57:35\tÃÂT: 47.528139,-122.197916\t47.528139\t-122.197916\tLmao!:) havin a good ol time after work! Unexpected! #goodtimes\n",
      "\n",
      "USER_79321756\t2010-03-04T06:00:09\tÃÂT: 47.528139,-122.197916\t47.528139\t-122.197916\tRT @USER_d5d93fec: #letsbereal .. No seriously, #letsbereal&gt;&gt;lol. Don't start.\n",
      "\n",
      "USER_79321756\t2010-03-04T06:00:37\tÃÂT: 47.528139,-122.197916\t47.528139\t-122.197916\tOn my way to get @USER_60939380 yeee! She want some of this strawberry! Sexy!\n",
      "\n",
      "USER_79321756\t2010-03-04T06:04:49\tÃÂT: 47.528139,-122.197916\t47.528139\t-122.197916\tMake sure ya frisk me good..check my panties and my bra..\n",
      "\n",
      "USER_79321756\t2010-03-04T06:15:01\tÃÂT: 47.528139,-122.197916\t47.528139\t-122.197916\tRT @USER_d5d93fec: RT @USER_79321756: RT @USER_d5d93fec: Man I don't feel like gettin up &gt;&gt;just take a nap.--no I can do this&gt;&gt;Lol. Okay.\n",
      "\n",
      "USER_79321756\t2010-03-04T06:43:31\tÃÂT: 47.528139,-122.197916\t47.528139\t-122.197916\tRidin.\n",
      "\n",
      "USER_79321756\t2010-03-04T07:12:13\tÃÂT: 47.528139,-122.197916\t47.528139\t-122.197916\tOh I'm late\n",
      "\n",
      "USER_79321756\t2010-03-04T07:12:22\tÃÂT: 47.528139,-122.197916\t47.528139\t-122.197916\tHa just got home\n",
      "\n",
      "USER_79321756\t2010-03-04T22:20:55\tÃÂT: 47.528139,-122.197916\t47.528139\t-122.197916\tHey @USER_620cd4b9 I know I'm hella late but this is my first twEet of the day so feel special:). Lol. Hope your having a good day!\n",
      "\n",
      "USER_79321756\t2010-03-04T22:28:43\tÃÂT: 47.528139,-122.197916\t47.528139\t-122.197916\tMy phones been dead for all day. Got some txts and vms. My guys from work came through! Lovin my life for da most part:)! #thankful\n",
      "\n",
      "USER_79321756\t2010-03-04T22:35:47\tÃÂT: 47.528139,-122.197916\t47.528139\t-122.197916\tRT @USER_620cd4b9: @USER_79321756 I will boo, I'll just jump on her LOL&gt;&gt;k promise:(\n",
      "\n",
      "USER_79321756\t2010-03-05T00:30:27\tÃÂT: 47.528139,-122.197916\t47.528139\t-122.197916\tBout to check my work email again. Funn we had to do shift bids and today we got the results but I'm off..co workers hitn me to tell me\n",
      "\n",
      "USER_79321756\t2010-03-05T01:03:13\tÃÂT: 47.528139,-122.197916\t47.528139\t-122.197916\tYeeeee founf my letter. Now waiting for this phone call. I need some good news asap. Thinkin bout ladies night tonight..its been a while.\n",
      "\n",
      "USER_79321756\t2010-03-05T01:38:16\tÃÂT: 47.528139,-122.197916\t47.528139\t-122.197916\t#LetsBeReal You miss me nigga! Lol.\n",
      "\n",
      "USER_79321756\t2010-03-05T01:44:12\tÃÂT: 47.528139,-122.197916\t47.528139\t-122.197916\tI had a mimosa earlier:) and thought about @USER_dc5e5498 @USER_d35ae058\n",
      "\n",
      "USER_79321756\t2010-03-05T01:58:00\tÃÂT: 47.528139,-122.197916\t47.528139\t-122.197916\tI'm really doing good. Ima stick to this. Well ima try my best. And I really am going to TRY. Not just say I'm tryin..\n",
      "\n",
      "USER_79321756\t2010-03-05T02:10:02\tÃÂT: 47.528139,-122.197916\t47.528139\t-122.197916\tRT @USER_642c9c1b: RT @USER_9bc2644b: out of line. Ã¢ÂÂ¢ Very\n",
      "\n",
      "USER_79321756\t2010-03-05T02:29:20\tÃÂT: 47.528139,-122.197916\t47.528139\t-122.197916\tRT @USER_3914673e: I have no damn discipline.&gt;&gt;Lol. #confess\n",
      "\n",
      "USER_79321756\t2010-03-05T02:47:52\tÃÂT: 47.528139,-122.197916\t47.528139\t-122.197916\tRT @USER_4cecd527: @USER_79321756 haha you're stupid...&gt;&gt;Nope I'm smart:)\n",
      "\n",
      "USER_79321756\t2010-03-05T04:48:05\tÃÂT: 47.528139,-122.197916\t47.528139\t-122.197916\tJust talkin too for real. Ha.\n",
      "\n",
      "USER_79321756\t2010-03-05T05:19:34\tÃÂT: 47.528139,-122.197916\t47.528139\t-122.197916\tRegardless of the kind of relationship you and your parents have they recognize you..mines are both proud of me..and I will keep that goin.\n",
      "\n",
      "USER_79321756\t2010-03-05T05:19:48\tÃÂT: 47.528139,-122.197916\t47.528139\t-122.197916\tAm I proud of both of them? No. Maybe 1 of em. Ha.\n",
      "\n",
      "USER_79321756\t2010-03-05T05:42:06\tÃÂT: 47.528139,-122.197916\t47.528139\t-122.197916\tWaiting for my lil bro to get home..this guy is spoiled. After wrestling practice he had his god mom take him to red robins like moms does..\n",
      "\n",
      "USER_79321756\t2010-03-05T05:57:16\tÃÂT: 47.528139,-122.197916\t47.528139\t-122.197916\t@USER_920f4fcd haha as you are to me!\n",
      "\n",
      "USER_79321756\t2010-03-05T07:10:00\tÃÂT: 47.528139,-122.197916\t47.528139\t-122.197916\tRT @USER_d5d93fec: She hates PORK @USER_621b922f hahahahaha\n",
      "\n",
      "USER_79321756\t2010-03-05T07:33:45\tÃÂT: 47.528139,-122.197916\t47.528139\t-122.197916\tNigga did I eat today?! Lol. - I wanna watch that katt.\n",
      "\n",
      "USER_79321756\t2010-03-05T07:57:25\tÃÂT: 47.528139,-122.197916\t47.528139\t-122.197916\tAll my bitches love me..all my all my bitches love me..\n",
      "\n",
      "USER_79321756\t2010-03-05T07:58:56\tÃÂT: 47.528139,-122.197916\t47.528139\t-122.197916\t@USER_2c8fc9a4 boy stop. Lol.\n",
      "\n",
      "USER_79321756\t2010-03-05T07:59:39\tÃÂT: 47.528139,-122.197916\t47.528139\t-122.197916\tRT @USER_dc5e5498: @USER_79321756 so your trying to say im pressed. #SuperTweeter ?? lmao hahah&gt;&gt;Lol. I'd rather get em on twitter only. Lol.\n",
      "\n",
      "USER_79321756\t2010-03-05T08:31:59\tÃÂT: 47.528139,-122.197916\t47.528139\t-122.197916\t@USER_2c8fc9a4 ...(Rollin my neck) don't even know da flavor!\n",
      "\n",
      "USER_79321756\t2010-03-05T16:24:15\tÃÂT: 47.528139,-122.197916\t47.528139\t-122.197916\t#FF those closest 2me: @USER_60939380 @USER_77a4822d @USER_2ff4faca @USER_d35ae058 @USER_4cf4c347 @USER_e794c52b @USER_d6d5e1bc @USER_6a8ee939 @USER_a9fe21e9\n",
      "\n",
      "USER_79321756\t2010-03-05T16:44:37\tÃÂT: 47.528139,-122.197916\t47.528139\t-122.197916\t#FF @USER_719853c2 cause everybody who knows me know he's my favorite! Since I was. Baby! \"You can learn from a baby\"! Lol. Yup. He said it..\n",
      "\n",
      "USER_79321756\t2010-03-05T16:45:56\tÃÂT: 47.528139,-122.197916\t47.528139\t-122.197916\tTime to go..walkn out the dooe to handle some major family bi cause we do this.\n",
      "\n",
      "USER_79321756\t2010-03-05T16:50:55\tÃÂT: 47.528139,-122.197916\t47.528139\t-122.197916\tOh damn it! I almost forgot! I'm taking my guy out top lunch for his bday later! I really need to get things rollin!\n",
      "\n",
      "USER_79321756\t2010-03-05T16:54:08\tÃÂT: 47.528139,-122.197916\t47.528139\t-122.197916\t#FF Peppers and Salt..lol aka the new boys :) Jk. @USER_62abd48d @USER_9763f55c\n",
      "\n",
      "USER_79321756\t2010-03-05T16:58:14\tÃÂT: 47.528139,-122.197916\t47.528139\t-122.197916\tRT @USER_620cd4b9: #FF @USER_79321756 just as crazy as she wanna be and be on that subliminal tweet game :)&gt;&gt;Lol ! Whatever! Haha.\n",
      "\n"
     ]
    }
   ],
   "source": [
    "for line in f:\n",
    "    print(line)  "
   ]
  },
  {
   "cell_type": "markdown",
   "metadata": {},
   "source": [
    "What if we only want to print out first 3 lines?"
   ]
  },
  {
   "cell_type": "code",
   "execution_count": 3,
   "metadata": {
    "scrolled": true
   },
   "outputs": [
    {
     "name": "stdout",
     "output_type": "stream",
     "text": [
      "USER_79321756\t2010-03-03T04:15:26\tÃÂT: 47.528139,-122.197916\t47.528139\t-122.197916\tRT @USER_2ff4faca: IF SHE DO IT 1 MORE TIME......IMA KNOCK HER DAMN KOOFIE OFF.....ON MY MOMMA&gt;&gt;haha. #cutthatout\n",
      "\n",
      "USER_79321756\t2010-03-03T04:55:32\tÃÂT: 47.528139,-122.197916\t47.528139\t-122.197916\t@USER_77a4822d @USER_2ff4faca okay:) lol. Saying ok to both of yall about to different things!:*\n",
      "\n",
      "USER_79321756\t2010-03-03T05:13:34\tÃÂT: 47.528139,-122.197916\t47.528139\t-122.197916\tRT @USER_5d4d777a: YOURE A FAG FOR GETTING IN THE MIDDLE OF THIS @USER_ab059bdc WHO THE FUCK ARE YOU ? A FUCKING NOBODY !!!!&gt;&gt;Lol! Dayum! Aye!\n",
      "\n"
     ]
    }
   ],
   "source": [
    "# Read File One Line At a Time\n",
    "\n",
    "filename = '../data/full_text_small.txt'\n",
    "\n",
    "f = open(filename, 'r', encoding=\"latin-1\")      # open the file for read\n",
    "\n",
    "nrows = 0\n",
    "for line in f:               # read into memory one line at a time, will never run out of memory!!!\n",
    "    nrows += 1\n",
    "    if nrows < 4:\n",
    "        print(line)"
   ]
  },
  {
   "cell_type": "markdown",
   "metadata": {},
   "source": [
    "> The output is unicode type. We will learn how to read as list later."
   ]
  },
  {
   "cell_type": "markdown",
   "metadata": {},
   "source": [
    "### Exercise 2.1.1: Print the first 5 rows"
   ]
  },
  {
   "cell_type": "code",
   "execution_count": 4,
   "metadata": {},
   "outputs": [],
   "source": [
    "filename = '../data/full_text_small.txt'\n",
    "\n",
    "f = open(filename, 'r', encoding=\"latin-1\")  \n",
    "\n",
    "###############################\n",
    "####Write your function below##\n",
    "\n",
    "\n",
    "\n",
    "\n",
    "\n"
   ]
  },
  {
   "cell_type": "markdown",
   "metadata": {},
   "source": [
    "### 2.1.2 Read file into Memory as a List"
   ]
  },
  {
   "cell_type": "code",
   "execution_count": 5,
   "metadata": {},
   "outputs": [
    {
     "data": {
      "text/plain": [
       "['USER_79321756\\t2010-03-03T04:15:26\\tÃ\\x83Â\\x9cT: 47.528139,-122.197916\\t47.528139\\t-122.197916\\tRT @USER_2ff4faca: IF SHE DO IT 1 MORE TIME......IMA KNOCK HER DAMN KOOFIE OFF.....ON MY MOMMA&gt;&gt;haha. #cutthatout\\n',\n",
       " 'USER_79321756\\t2010-03-03T04:55:32\\tÃ\\x83Â\\x9cT: 47.528139,-122.197916\\t47.528139\\t-122.197916\\t@USER_77a4822d @USER_2ff4faca okay:) lol. Saying ok to both of yall about to different things!:*\\n',\n",
       " 'USER_79321756\\t2010-03-03T05:13:34\\tÃ\\x83Â\\x9cT: 47.528139,-122.197916\\t47.528139\\t-122.197916\\tRT @USER_5d4d777a: YOURE A FAG FOR GETTING IN THE MIDDLE OF THIS @USER_ab059bdc WHO THE FUCK ARE YOU ? A FUCKING NOBODY !!!!&gt;&gt;Lol! Dayum! Aye!\\n',\n",
       " 'USER_79321756\\t2010-03-03T05:28:02\\tÃ\\x83Â\\x9cT: 47.528139,-122.197916\\t47.528139\\t-122.197916\\t@USER_77a4822d yea ok..well answer that cheap as Sweden phone you came up on when I call.\\n',\n",
       " 'USER_79321756\\t2010-03-03T05:56:13\\tÃ\\x83Â\\x9cT: 47.528139,-122.197916\\t47.528139\\t-122.197916\\tA sprite can disappear in her mouth - lil kim hmmmmm the can not the bottle right?\\n',\n",
       " \"USER_79321756\\t2010-03-03T16:52:44\\tÃ\\x83Â\\x9cT: 47.528139,-122.197916\\t47.528139\\t-122.197916\\tLmao! I still get txt when AJ tweets before they even post (mistake) ha. And the one I just got has me dyin! @USER_a5b463b2 what's ur issue!\\n\",\n",
       " 'USER_79321756\\t2010-03-03T16:57:24\\tÃ\\x83Â\\x9cT: 47.528139,-122.197916\\t47.528139\\t-122.197916\\tAlright twitters tryna take me over!\\n',\n",
       " 'USER_79321756\\t2010-03-03T20:20:40\\tÃ\\x83Â\\x9cT: 47.528139,-122.197916\\t47.528139\\t-122.197916\\tJust got to work. Got my pizza bagel and my raspberry iced tea:). Pulling up my systems..interview not til 2. I just wanna get it done!:D\\n',\n",
       " \"USER_79321756\\t2010-03-03T23:23:33\\tÃ\\x83Â\\x9cT: 47.528139,-122.197916\\t47.528139\\t-122.197916\\tJust got a txt from my cousin! Yes! So happy for you @USER_a9fe21e9 let's get it!\\n\",\n",
       " \"USER_79321756\\t2010-03-03T23:37:36\\tÃ\\x83Â\\x9cT: 47.528139,-122.197916\\t47.528139\\t-122.197916\\tWhy is this woman in the bathroom everytime I'm in the bathroom..!? Stinkn up allll the stalls! Ha.\\n\",\n",
       " 'USER_79321756\\t2010-03-04T01:32:24\\tÃ\\x83Â\\x9cT: 47.528139,-122.197916\\t47.528139\\t-122.197916\\t@USER_d5d93fec shit they everywhere..\\n',\n",
       " 'USER_79321756\\t2010-03-04T01:55:55\\tÃ\\x83Â\\x9cT: 47.528139,-122.197916\\t47.528139\\t-122.197916\\tRT @USER_dc5e5498: Drop and give me 50....\\n',\n",
       " 'USER_79321756\\t2010-03-04T05:09:29\\tÃ\\x83Â\\x9cT: 47.528139,-122.197916\\t47.528139\\t-122.197916\\tI said u got a swisher from redmond!? He said nah kirkland! Lol..ooooooooOkay!\\n',\n",
       " 'USER_79321756\\t2010-03-04T05:57:35\\tÃ\\x83Â\\x9cT: 47.528139,-122.197916\\t47.528139\\t-122.197916\\tLmao!:) havin a good ol time after work! Unexpected! #goodtimes\\n',\n",
       " \"USER_79321756\\t2010-03-04T06:00:09\\tÃ\\x83Â\\x9cT: 47.528139,-122.197916\\t47.528139\\t-122.197916\\tRT @USER_d5d93fec: #letsbereal .. No seriously, #letsbereal&gt;&gt;lol. Don't start.\\n\",\n",
       " 'USER_79321756\\t2010-03-04T06:00:37\\tÃ\\x83Â\\x9cT: 47.528139,-122.197916\\t47.528139\\t-122.197916\\tOn my way to get @USER_60939380 yeee! She want some of this strawberry! Sexy!\\n',\n",
       " 'USER_79321756\\t2010-03-04T06:04:49\\tÃ\\x83Â\\x9cT: 47.528139,-122.197916\\t47.528139\\t-122.197916\\tMake sure ya frisk me good..check my panties and my bra..\\n',\n",
       " \"USER_79321756\\t2010-03-04T06:15:01\\tÃ\\x83Â\\x9cT: 47.528139,-122.197916\\t47.528139\\t-122.197916\\tRT @USER_d5d93fec: RT @USER_79321756: RT @USER_d5d93fec: Man I don't feel like gettin up &gt;&gt;just take a nap.--no I can do this&gt;&gt;Lol. Okay.\\n\",\n",
       " 'USER_79321756\\t2010-03-04T06:43:31\\tÃ\\x83Â\\x9cT: 47.528139,-122.197916\\t47.528139\\t-122.197916\\tRidin.\\n',\n",
       " \"USER_79321756\\t2010-03-04T07:12:13\\tÃ\\x83Â\\x9cT: 47.528139,-122.197916\\t47.528139\\t-122.197916\\tOh I'm late\\n\",\n",
       " 'USER_79321756\\t2010-03-04T07:12:22\\tÃ\\x83Â\\x9cT: 47.528139,-122.197916\\t47.528139\\t-122.197916\\tHa just got home\\n',\n",
       " \"USER_79321756\\t2010-03-04T22:20:55\\tÃ\\x83Â\\x9cT: 47.528139,-122.197916\\t47.528139\\t-122.197916\\tHey @USER_620cd4b9 I know I'm hella late but this is my first twEet of the day so feel special:). Lol. Hope your having a good day!\\n\",\n",
       " 'USER_79321756\\t2010-03-04T22:28:43\\tÃ\\x83Â\\x9cT: 47.528139,-122.197916\\t47.528139\\t-122.197916\\tMy phones been dead for all day. Got some txts and vms. My guys from work came through! Lovin my life for da most part:)! #thankful\\n',\n",
       " \"USER_79321756\\t2010-03-04T22:35:47\\tÃ\\x83Â\\x9cT: 47.528139,-122.197916\\t47.528139\\t-122.197916\\tRT @USER_620cd4b9: @USER_79321756 I will boo, I'll just jump on her LOL&gt;&gt;k promise:(\\n\",\n",
       " \"USER_79321756\\t2010-03-05T00:30:27\\tÃ\\x83Â\\x9cT: 47.528139,-122.197916\\t47.528139\\t-122.197916\\tBout to check my work email again. Funn we had to do shift bids and today we got the results but I'm off..co workers hitn me to tell me\\n\",\n",
       " 'USER_79321756\\t2010-03-05T01:03:13\\tÃ\\x83Â\\x9cT: 47.528139,-122.197916\\t47.528139\\t-122.197916\\tYeeeee founf my letter. Now waiting for this phone call. I need some good news asap. Thinkin bout ladies night tonight..its been a while.\\n',\n",
       " 'USER_79321756\\t2010-03-05T01:38:16\\tÃ\\x83Â\\x9cT: 47.528139,-122.197916\\t47.528139\\t-122.197916\\t#LetsBeReal You miss me nigga! Lol.\\n',\n",
       " 'USER_79321756\\t2010-03-05T01:44:12\\tÃ\\x83Â\\x9cT: 47.528139,-122.197916\\t47.528139\\t-122.197916\\tI had a mimosa earlier:) and thought about @USER_dc5e5498 @USER_d35ae058\\n',\n",
       " \"USER_79321756\\t2010-03-05T01:58:00\\tÃ\\x83Â\\x9cT: 47.528139,-122.197916\\t47.528139\\t-122.197916\\tI'm really doing good. Ima stick to this. Well ima try my best. And I really am going to TRY. Not just say I'm tryin..\\n\",\n",
       " 'USER_79321756\\t2010-03-05T02:10:02\\tÃ\\x83Â\\x9cT: 47.528139,-122.197916\\t47.528139\\t-122.197916\\tRT @USER_642c9c1b: RT @USER_9bc2644b: out of line. Ã¢Â\\x80Â¢ Very\\n',\n",
       " 'USER_79321756\\t2010-03-05T02:29:20\\tÃ\\x83Â\\x9cT: 47.528139,-122.197916\\t47.528139\\t-122.197916\\tRT @USER_3914673e: I have no damn discipline.&gt;&gt;Lol. #confess\\n',\n",
       " \"USER_79321756\\t2010-03-05T02:47:52\\tÃ\\x83Â\\x9cT: 47.528139,-122.197916\\t47.528139\\t-122.197916\\tRT @USER_4cecd527: @USER_79321756 haha you're stupid...&gt;&gt;Nope I'm smart:)\\n\",\n",
       " 'USER_79321756\\t2010-03-05T04:48:05\\tÃ\\x83Â\\x9cT: 47.528139,-122.197916\\t47.528139\\t-122.197916\\tJust talkin too for real. Ha.\\n',\n",
       " 'USER_79321756\\t2010-03-05T05:19:34\\tÃ\\x83Â\\x9cT: 47.528139,-122.197916\\t47.528139\\t-122.197916\\tRegardless of the kind of relationship you and your parents have they recognize you..mines are both proud of me..and I will keep that goin.\\n',\n",
       " 'USER_79321756\\t2010-03-05T05:19:48\\tÃ\\x83Â\\x9cT: 47.528139,-122.197916\\t47.528139\\t-122.197916\\tAm I proud of both of them? No. Maybe 1 of em. Ha.\\n',\n",
       " 'USER_79321756\\t2010-03-05T05:42:06\\tÃ\\x83Â\\x9cT: 47.528139,-122.197916\\t47.528139\\t-122.197916\\tWaiting for my lil bro to get home..this guy is spoiled. After wrestling practice he had his god mom take him to red robins like moms does..\\n',\n",
       " 'USER_79321756\\t2010-03-05T05:57:16\\tÃ\\x83Â\\x9cT: 47.528139,-122.197916\\t47.528139\\t-122.197916\\t@USER_920f4fcd haha as you are to me!\\n',\n",
       " 'USER_79321756\\t2010-03-05T07:10:00\\tÃ\\x83Â\\x9cT: 47.528139,-122.197916\\t47.528139\\t-122.197916\\tRT @USER_d5d93fec: She hates PORK @USER_621b922f hahahahaha\\n',\n",
       " 'USER_79321756\\t2010-03-05T07:33:45\\tÃ\\x83Â\\x9cT: 47.528139,-122.197916\\t47.528139\\t-122.197916\\tNigga did I eat today?! Lol. - I wanna watch that katt.\\n',\n",
       " 'USER_79321756\\t2010-03-05T07:57:25\\tÃ\\x83Â\\x9cT: 47.528139,-122.197916\\t47.528139\\t-122.197916\\tAll my bitches love me..all my all my bitches love me..\\n',\n",
       " 'USER_79321756\\t2010-03-05T07:58:56\\tÃ\\x83Â\\x9cT: 47.528139,-122.197916\\t47.528139\\t-122.197916\\t@USER_2c8fc9a4 boy stop. Lol.\\n',\n",
       " \"USER_79321756\\t2010-03-05T07:59:39\\tÃ\\x83Â\\x9cT: 47.528139,-122.197916\\t47.528139\\t-122.197916\\tRT @USER_dc5e5498: @USER_79321756 so your trying to say im pressed. #SuperTweeter ?? lmao hahah&gt;&gt;Lol. I'd rather get em on twitter only. Lol.\\n\",\n",
       " \"USER_79321756\\t2010-03-05T08:31:59\\tÃ\\x83Â\\x9cT: 47.528139,-122.197916\\t47.528139\\t-122.197916\\t@USER_2c8fc9a4 ...(Rollin my neck) don't even know da flavor!\\n\",\n",
       " 'USER_79321756\\t2010-03-05T16:24:15\\tÃ\\x83Â\\x9cT: 47.528139,-122.197916\\t47.528139\\t-122.197916\\t#FF those closest 2me: @USER_60939380 @USER_77a4822d @USER_2ff4faca @USER_d35ae058 @USER_4cf4c347 @USER_e794c52b @USER_d6d5e1bc @USER_6a8ee939 @USER_a9fe21e9\\n',\n",
       " 'USER_79321756\\t2010-03-05T16:44:37\\tÃ\\x83Â\\x9cT: 47.528139,-122.197916\\t47.528139\\t-122.197916\\t#FF @USER_719853c2 cause everybody who knows me know he\\'s my favorite! Since I was. Baby! \"You can learn from a baby\"! Lol. Yup. He said it..\\n',\n",
       " 'USER_79321756\\t2010-03-05T16:45:56\\tÃ\\x83Â\\x9cT: 47.528139,-122.197916\\t47.528139\\t-122.197916\\tTime to go..walkn out the dooe to handle some major family bi cause we do this.\\n',\n",
       " \"USER_79321756\\t2010-03-05T16:50:55\\tÃ\\x83Â\\x9cT: 47.528139,-122.197916\\t47.528139\\t-122.197916\\tOh damn it! I almost forgot! I'm taking my guy out top lunch for his bday later! I really need to get things rollin!\\n\",\n",
       " 'USER_79321756\\t2010-03-05T16:54:08\\tÃ\\x83Â\\x9cT: 47.528139,-122.197916\\t47.528139\\t-122.197916\\t#FF Peppers and Salt..lol aka the new boys :) Jk. @USER_62abd48d @USER_9763f55c\\n',\n",
       " 'USER_79321756\\t2010-03-05T16:58:14\\tÃ\\x83Â\\x9cT: 47.528139,-122.197916\\t47.528139\\t-122.197916\\tRT @USER_620cd4b9: #FF @USER_79321756 just as crazy as she wanna be and be on that subliminal tweet game :)&gt;&gt;Lol ! Whatever! Haha.\\n']"
      ]
     },
     "execution_count": 5,
     "metadata": {},
     "output_type": "execute_result"
    }
   ],
   "source": [
    "filename_twitter = '../data/full_text_small.txt'\n",
    "\n",
    "f = open(filename_twitter, 'r', encoding='latin-1')     \n",
    "\n",
    "lines = f.readlines()\n",
    "lines"
   ]
  },
  {
   "cell_type": "code",
   "execution_count": 6,
   "metadata": {},
   "outputs": [
    {
     "data": {
      "text/plain": [
       "list"
      ]
     },
     "execution_count": 6,
     "metadata": {},
     "output_type": "execute_result"
    }
   ],
   "source": [
    "type(lines)"
   ]
  },
  {
   "cell_type": "markdown",
   "metadata": {},
   "source": [
    "> Why read as a List?? Because we could use list operators to manipulate the text."
   ]
  },
  {
   "cell_type": "code",
   "execution_count": 7,
   "metadata": {
    "scrolled": true
   },
   "outputs": [
    {
     "data": {
      "text/plain": [
       "'USER_79321756\\t2010-03-03T04:15:26\\tÃ\\x83Â\\x9cT: 47.528139,-122.197916\\t47.528139\\t-122.197916\\tRT @USER_2ff4faca: IF SHE DO IT 1 MORE TIME......IMA KNOCK HER DAMN KOOFIE OFF.....ON MY MOMMA&gt;&gt;haha. #cutthatout\\n'"
      ]
     },
     "execution_count": 7,
     "metadata": {},
     "output_type": "execute_result"
    }
   ],
   "source": [
    "lines[0]"
   ]
  },
  {
   "cell_type": "code",
   "execution_count": 8,
   "metadata": {
    "scrolled": false
   },
   "outputs": [
    {
     "data": {
      "text/plain": [
       "49"
      ]
     },
     "execution_count": 8,
     "metadata": {},
     "output_type": "execute_result"
    }
   ],
   "source": [
    "len(lines)"
   ]
  },
  {
   "cell_type": "markdown",
   "metadata": {},
   "source": [
    "### 2.1.3 Write to a file"
   ]
  },
  {
   "cell_type": "code",
   "execution_count": 9,
   "metadata": {},
   "outputs": [],
   "source": [
    "filename_twitter = '../data/full_text_small.txt' #input\n",
    "filename_output = '../data/full_text_first3.txt' #output\n",
    "\n",
    "twitter = open(filename_twitter, 'r', encoding=\"latin-1\")     # open the file\n",
    "output = open(filename_output, 'w', encoding=\"utf-8\")     # open the file for writing data\n",
    "\n",
    "nrows = 0\n",
    "for z in twitter:               # read into memory one line at a time, will never run out of memory!!!\n",
    "    nrows += 1\n",
    "    if nrows < 4:\n",
    "        output.write(z)\n",
    "        \n",
    "twitter.close()\n",
    "output.close()\n",
    "# Note that you just wrote data to a file named \"text.txt\". You don't see any output"
   ]
  },
  {
   "cell_type": "markdown",
   "metadata": {},
   "source": [
    "## 2.2 String Manipulation"
   ]
  },
  {
   "cell_type": "markdown",
   "metadata": {},
   "source": [
    "<img src='../images/python_string_index_representation_1.png' width=\"25%\">\n",
    "<img src='../images/python_string_index_representation_2.png' width=\"26%\">"
   ]
  },
  {
   "cell_type": "markdown",
   "metadata": {},
   "source": [
    "### 2.2.1 String Slicing and Indexing\n",
    "\n",
    "Try to get the **user id** from the sample file."
   ]
  },
  {
   "cell_type": "code",
   "execution_count": 10,
   "metadata": {},
   "outputs": [
    {
     "name": "stdout",
     "output_type": "stream",
     "text": [
      "79321756\n",
      "79321756\n",
      "79321756\n",
      "79321756\n",
      "79321756\n",
      "79321756\n",
      "79321756\n",
      "79321756\n",
      "79321756\n",
      "79321756\n",
      "79321756\n",
      "79321756\n",
      "79321756\n",
      "79321756\n",
      "79321756\n",
      "79321756\n",
      "79321756\n",
      "79321756\n",
      "79321756\n",
      "79321756\n",
      "79321756\n",
      "79321756\n",
      "79321756\n",
      "79321756\n",
      "79321756\n",
      "79321756\n",
      "79321756\n",
      "79321756\n",
      "79321756\n",
      "79321756\n",
      "79321756\n",
      "79321756\n",
      "79321756\n",
      "79321756\n",
      "79321756\n",
      "79321756\n",
      "79321756\n",
      "79321756\n",
      "79321756\n",
      "79321756\n",
      "79321756\n",
      "79321756\n",
      "79321756\n",
      "79321756\n",
      "79321756\n",
      "79321756\n",
      "79321756\n",
      "79321756\n",
      "79321756\n"
     ]
    }
   ],
   "source": [
    "filename = '../data/full_text_small.txt'\n",
    "\n",
    "f = open(filename, 'r', encoding=\"latin-1\")      # open the file for read\n",
    "\n",
    "for line in f:               \n",
    "    line_list = line.lower().split('\\t')  #split by \\t (tab)\n",
    "    #print(line_list)\n",
    "    user_id = line_list[0]   \n",
    "    id = user_id[5:]\n",
    "    print(id)\n"
   ]
  },
  {
   "cell_type": "markdown",
   "metadata": {},
   "source": [
    "### Exercise 2.2.1: Extract all retweets using string indexing and slicing\n",
    "\n",
    "We are going to exacting all retweets and the user information. Desired output is shown as follows:\n",
    "```python\n",
    "rt @user_2ff4faca\n",
    "rt @user_5d4d777a\n",
    "rt @user_dc5e5498\n",
    "```"
   ]
  },
  {
   "cell_type": "code",
   "execution_count": null,
   "metadata": {},
   "outputs": [],
   "source": [
    "filename = '../data/full_text_small.txt'\n",
    "\n",
    "f = open(filename, 'r', encoding=\"latin-1\")      # open the file for read\n",
    "\n",
    "for line in f:               # read into memory one line at a time, will never run out of memory!!!\n",
    "    line_list = line.lower().split('\\t')\n",
    "    tweet = line_list[5]\n",
    "    print(tweet)\n",
    "\n",
    "    ###############################\n",
    "    # Insert your code block here\n",
    "    ###############################\n",
    "    \n",
    "\n",
    "    \n",
    "    \n",
    "    \n",
    "    \n",
    "    "
   ]
  },
  {
   "cell_type": "markdown",
   "metadata": {},
   "source": [
    "Are you able to do this by List Comprehensions?"
   ]
  },
  {
   "cell_type": "code",
   "execution_count": null,
   "metadata": {},
   "outputs": [],
   "source": [
    "filename = '../data/full_text_small.txt'\n",
    "\n",
    "f = open(filename, 'r', encoding=\"latin-1\")      # open the file for read\n",
    "\n",
    "# read data into a list\n",
    "lines = f.readlines()\n",
    "print(lines)\n",
    "\n",
    "###############################\n",
    "# Insert your code block here\n",
    "############################### \n",
    "# List comprehension\n",
    "\n",
    "\n",
    "\n",
    "\n"
   ]
  },
  {
   "cell_type": "markdown",
   "metadata": {},
   "source": [
    "Print output and check the list descriptions:"
   ]
  },
  {
   "cell_type": "code",
   "execution_count": null,
   "metadata": {},
   "outputs": [],
   "source": [
    "print(\"Mentions: {}\".format(mentions))\n",
    "print(\"\\n\")\n",
    "print(\"Number of mentions: {0}\".format(len(mentions)))\n",
    "print(\"\\n\")\n",
    "print(\"Unique mentions: {}\".format(set(mentions)))\n",
    "print(\"\\n\")\n",
    "print(\"Unique mentions: {}\".format(len(set(mentions))))"
   ]
  },
  {
   "cell_type": "markdown",
   "metadata": {},
   "source": [
    "### 2.2.2 String Methods"
   ]
  },
  {
   "cell_type": "markdown",
   "metadata": {},
   "source": [
    "`\n",
    "s.lower()  \n",
    "s.upper()   \n",
    "s.capitalize()        \n",
    "s.strip()   \n",
    "s.isalpha()  \n",
    "s.isdigit()  \n",
    "s.isspace()  \n",
    "s.startwith()  \n",
    "s.endswith()  \n",
    "s.replace()\n",
    "s.split()\n",
    "s.join()\n",
    "`"
   ]
  },
  {
   "cell_type": "markdown",
   "metadata": {},
   "source": [
    "**Example for**\n",
    "`\n",
    "str.strip([chars])\n",
    "`\n",
    ">Return a copy of the string with the leading and trailing characters removed. The chars argument is a string specifying the set of characters to be removed. If omitted or None, the chars argument defaults to removing **whitespace**. The chars argument is not a prefix or suffix; rather, **all combinations of its values are stripped**.\n"
   ]
  },
  {
   "cell_type": "code",
   "execution_count": null,
   "metadata": {},
   "outputs": [],
   "source": [
    "'   spacious   '.strip()"
   ]
  },
  {
   "cell_type": "code",
   "execution_count": null,
   "metadata": {},
   "outputs": [],
   "source": [
    "'www.example.com'.strip('cmowz.')"
   ]
  },
  {
   "cell_type": "markdown",
   "metadata": {},
   "source": [
    "**Example for**\n",
    "`\n",
    "str.splitlines([keepends])\n",
    "`\n",
    ">Return a list of the lines in the string, **breaking at line boundaries**. This method uses the universal newlines approach to splitting lines. **Line breaks are not included in the resulting list unless keepends is given and true.**\n",
    "\n",
    "Python recognizes **\"\\r\", \"\\n\", and \"\\r\\n\"** as line boundaries for 8-bit strings."
   ]
  },
  {
   "cell_type": "code",
   "execution_count": null,
   "metadata": {},
   "outputs": [],
   "source": [
    "'ab c\\n\\nde fg\\rkl\\r\\n'.splitlines()"
   ]
  },
  {
   "cell_type": "code",
   "execution_count": null,
   "metadata": {
    "scrolled": true
   },
   "outputs": [],
   "source": [
    "'ab c\\n\\nde fg\\rkl\\r\\n'.splitlines(True)"
   ]
  },
  {
   "cell_type": "markdown",
   "metadata": {},
   "source": [
    "### Exercise 2.2.2: \n",
    "\n",
    "#### Problem 1: Use string.join() method to join latitude and longtitude into a string\n",
    "\n",
    "**Expected Output:**\n",
    "47.528139,-122.197916 "
   ]
  },
  {
   "cell_type": "code",
   "execution_count": null,
   "metadata": {},
   "outputs": [],
   "source": [
    "filename = '../data/full_text_small.txt'\n",
    "\n",
    "f = open(filename, 'r', encoding=\"latin-1\")      # open the file for read\n",
    "\n",
    "for line in f:               \n",
    "    line_list = line.lower().split('\\t')\n",
    "    lat = line_list[3]\n",
    "    lon = line_list[4]\n",
    "    print(lat,lon)\n",
    "    ###############################\n",
    "    # Insert your code block here\n",
    "    ###############################    \n",
    "    \n",
    "    \n",
    "    \n",
    "    \n",
    "    \n",
    "    \n",
    "    "
   ]
  },
  {
   "cell_type": "markdown",
   "metadata": {},
   "source": [
    "#### Problem 2: Find all tweets that contain hashtag. e.g. \"#nowplaying\"\n",
    "\n",
    "**Expected Output:**\n",
    "```python\n",
    "cutthatout\n",
    "goodtimes\n",
    "letsbereal\n",
    "letsbereal&gt;&gt;lol.\n",
    "thankful\n",
    "letsbereal\n",
    "```\n"
   ]
  },
  {
   "cell_type": "code",
   "execution_count": null,
   "metadata": {},
   "outputs": [],
   "source": [
    "filename = '../data/full_text_small.txt'\n",
    "\n",
    "f = open(filename, 'r', encoding=\"latin-1\")      # open the file for read\n",
    "\n",
    "for line in f:               \n",
    "    line_list = line.lower().split('\\t')\n",
    "    tweet = line_list[5]\n",
    "    print(tweet)\n",
    "    ###############################\n",
    "    # Insert your code block here\n",
    "    ###############################   \n",
    "\n",
    "    \n",
    "    \n",
    "    \n",
    "    \n",
    "    "
   ]
  },
  {
   "cell_type": "markdown",
   "metadata": {},
   "source": [
    "## 2.2.3 Iterate through a list with for loop"
   ]
  },
  {
   "cell_type": "code",
   "execution_count": 11,
   "metadata": {},
   "outputs": [],
   "source": [
    "top_hashtags = [('#unotfromthehoodif', 208),\n",
    " ('#twitterafterdark', 297),\n",
    " ('#thuglife', 175),\n",
    " ('#thatisall', 309),\n",
    " ('#teamblackberry', 204),\n",
    " ('#smh', 150),\n",
    " ('#shoutouts', 106),\n",
    " ('#shoutout', 840),\n",
    " ('#2', 106),\n",
    " ('#1', 210),\n",
    " ('#', 603)]"
   ]
  },
  {
   "cell_type": "markdown",
   "metadata": {},
   "source": [
    "How to remove the '#' from hashtags ?"
   ]
  },
  {
   "cell_type": "code",
   "execution_count": 12,
   "metadata": {
    "scrolled": true
   },
   "outputs": [
    {
     "name": "stdout",
     "output_type": "stream",
     "text": [
      "['unotfromthehoodif', 'twitterafterdark', 'thuglife', 'thatisall', 'teamblackberry', 'smh', 'shoutouts', 'shoutout', '2', '1', '']\n"
     ]
    }
   ],
   "source": [
    "top_tags = []\n",
    "for ht in top_hashtags:\n",
    "    tag = ht[0].replace('#', '')\n",
    "    top_tags.append(tag)\n",
    "\n",
    "#get all contents in reverse order\n",
    "print(top_tags)"
   ]
  },
  {
   "cell_type": "markdown",
   "metadata": {},
   "source": [
    "### Exercise 2.2.3 Remove '#' from hashtags using list comprehension\n",
    "\n",
    "**Expected output**\n",
    "```python\n",
    "['unotfromthehoodif',\n",
    "'twitterafterdark',\n",
    "'thuglife',\n",
    "'thatisall',\n",
    "'teamblackberry',\n",
    "'smh',\n",
    "'shoutouts',\n",
    "'shoutout',\n",
    "]\n",
    "```"
   ]
  },
  {
   "cell_type": "code",
   "execution_count": null,
   "metadata": {},
   "outputs": [],
   "source": [
    "###############################\n",
    "# Insert your code block here\n",
    "############################### \n",
    "\n",
    "\n",
    "\n",
    "\n",
    "\n",
    "\n"
   ]
  },
  {
   "cell_type": "markdown",
   "metadata": {},
   "source": [
    "------\n",
    "# Project 2: Titanic - Machine Learning from Disaster\n",
    "\n",
    "The goal of this assignment is to see how you would approach the problem of using available data to build a model that serves a particular purpose.\n",
    "\n",
    "## Problem: \n",
    "\n",
    "The sinking of the RMS Titanic is one of the most infamous shipwrecks in history.  On April 15, 1912, during her maiden voyage, the Titanic sank after colliding with an iceberg, killing 1502 out of 2224 passengers and crew. \n",
    "\n",
    "One of the reasons that the shipwreck led to such loss of life was that **there were not enough lifeboats for the passengers and crew**. Although there was some element of luck involved in surviving the sinking, **some groups of people were more likely to survive than others, such as women, children, and the upper-class**.\n",
    "\n",
    "In this challenge, we ask you to complete the analysis of what sorts of people were likely to survive. In particular, we ask you to apply the tools of machine learning to predict which passengers survived the tragedy.\n",
    "\n",
    "\n",
    "<img src='../images/titanic.jpg' width=\"30%\">"
   ]
  },
  {
   "cell_type": "markdown",
   "metadata": {},
   "source": [
    "## Data\n",
    "The train/test sets have 891/418 rows with 12/11 columns. The features are:\n",
    "\n",
    "* Survived: 0 = No, 1 = Yes\n",
    "* Pclass: Ticket class 1 = 1st, 2 = 2nd, 3 = 3rd\n",
    "* Name: Name of the passenger\n",
    "* Sex: male, female\n",
    "* Age: Age in years. Is fractional if less than 1. If the age is estimated, it is in the form of xx.5.\n",
    "* SibSp: # of siblings / spouses aboard the Titanic (Sibling = brother, sister, stepbrother, stepsister, Spouse = husband, wife). Mistresses and fiancés were ignored\n",
    "* Parch: # of parents / children aboard the Titanic (Parent = mother, father, Child = daughter, son, stepdaughter, stepson). Some children travelled only with a nanny, therefore Parch=0 for them.\n",
    "* Ticket: Ticket number\n",
    "* Fare: Passenger fare\n",
    "* Cabin: Cabin number\n",
    "* Embarked: Port of Embarkation C = Cherbourg, Q = Queenstown, S = Southampton"
   ]
  },
  {
   "cell_type": "markdown",
   "metadata": {},
   "source": [
    "## 1. Setting\n",
    "First of all, let's import the sample dataset and libraries."
   ]
  },
  {
   "cell_type": "code",
   "execution_count": 13,
   "metadata": {},
   "outputs": [],
   "source": [
    "# data analysis\n",
    "import pandas as pd\n",
    "import numpy as np\n",
    "\n",
    "# visualization\n",
    "import seaborn as sns\n",
    "import matplotlib.pyplot as plt\n",
    "%matplotlib inline"
   ]
  },
  {
   "cell_type": "markdown",
   "metadata": {},
   "source": [
    "## 2. First look"
   ]
  },
  {
   "cell_type": "code",
   "execution_count": 14,
   "metadata": {
    "scrolled": true
   },
   "outputs": [
    {
     "name": "stdout",
     "output_type": "stream",
     "text": [
      "<class 'pandas.core.frame.DataFrame'>\n",
      "RangeIndex: 891 entries, 0 to 890\n",
      "Data columns (total 12 columns):\n",
      "PassengerId    891 non-null int64\n",
      "Survived       891 non-null int64\n",
      "Pclass         891 non-null int64\n",
      "Name           891 non-null object\n",
      "Sex            891 non-null object\n",
      "Age            714 non-null float64\n",
      "SibSp          891 non-null int64\n",
      "Parch          891 non-null int64\n",
      "Ticket         891 non-null object\n",
      "Fare           891 non-null float64\n",
      "Cabin          204 non-null object\n",
      "Embarked       889 non-null object\n",
      "dtypes: float64(2), int64(5), object(5)\n",
      "memory usage: 83.6+ KB\n",
      "________________________________________\n",
      "<class 'pandas.core.frame.DataFrame'>\n",
      "RangeIndex: 418 entries, 0 to 417\n",
      "Data columns (total 11 columns):\n",
      "PassengerId    418 non-null int64\n",
      "Pclass         418 non-null int64\n",
      "Name           418 non-null object\n",
      "Sex            418 non-null object\n",
      "Age            332 non-null float64\n",
      "SibSp          418 non-null int64\n",
      "Parch          418 non-null int64\n",
      "Ticket         418 non-null object\n",
      "Fare           417 non-null float64\n",
      "Cabin          91 non-null object\n",
      "Embarked       418 non-null object\n",
      "dtypes: float64(2), int64(4), object(5)\n",
      "memory usage: 36.0+ KB\n"
     ]
    }
   ],
   "source": [
    "# read data and have a first look at it\n",
    "train_df = pd.read_csv('../data/train.csv')\n",
    "test_df = pd.read_csv('../data/test.csv')\n",
    "\n",
    "train_df.info()\n",
    "print('_'*40)\n",
    "test_df.info()"
   ]
  },
  {
   "cell_type": "markdown",
   "metadata": {},
   "source": [
    "How many missing values in train and test?"
   ]
  },
  {
   "cell_type": "code",
   "execution_count": 15,
   "metadata": {
    "scrolled": true
   },
   "outputs": [
    {
     "name": "stdout",
     "output_type": "stream",
     "text": [
      "PassengerId      0\n",
      "Survived         0\n",
      "Pclass           0\n",
      "Name             0\n",
      "Sex              0\n",
      "Age            177\n",
      "SibSp            0\n",
      "Parch            0\n",
      "Ticket           0\n",
      "Fare             0\n",
      "Cabin          687\n",
      "Embarked         2\n",
      "dtype: int64\n",
      "________________________________________\n",
      "PassengerId      0\n",
      "Pclass           0\n",
      "Name             0\n",
      "Sex              0\n",
      "Age             86\n",
      "SibSp            0\n",
      "Parch            0\n",
      "Ticket           0\n",
      "Fare             1\n",
      "Cabin          327\n",
      "Embarked         0\n",
      "dtype: int64\n"
     ]
    }
   ],
   "source": [
    "# missing values\n",
    "print(train_df.isnull().sum())\n",
    "print('_'*40)\n",
    "print(test_df.isnull().sum())"
   ]
  },
  {
   "cell_type": "code",
   "execution_count": 16,
   "metadata": {},
   "outputs": [
    {
     "data": {
      "text/html": [
       "<div>\n",
       "<style scoped>\n",
       "    .dataframe tbody tr th:only-of-type {\n",
       "        vertical-align: middle;\n",
       "    }\n",
       "\n",
       "    .dataframe tbody tr th {\n",
       "        vertical-align: top;\n",
       "    }\n",
       "\n",
       "    .dataframe thead th {\n",
       "        text-align: right;\n",
       "    }\n",
       "</style>\n",
       "<table border=\"1\" class=\"dataframe\">\n",
       "  <thead>\n",
       "    <tr style=\"text-align: right;\">\n",
       "      <th></th>\n",
       "      <th>PassengerId</th>\n",
       "      <th>Survived</th>\n",
       "      <th>Pclass</th>\n",
       "      <th>Name</th>\n",
       "      <th>Sex</th>\n",
       "      <th>Age</th>\n",
       "      <th>SibSp</th>\n",
       "      <th>Parch</th>\n",
       "      <th>Ticket</th>\n",
       "      <th>Fare</th>\n",
       "      <th>Cabin</th>\n",
       "      <th>Embarked</th>\n",
       "    </tr>\n",
       "  </thead>\n",
       "  <tbody>\n",
       "    <tr>\n",
       "      <th>0</th>\n",
       "      <td>1</td>\n",
       "      <td>0</td>\n",
       "      <td>3</td>\n",
       "      <td>Braund, Mr. Owen Harris</td>\n",
       "      <td>male</td>\n",
       "      <td>22.0</td>\n",
       "      <td>1</td>\n",
       "      <td>0</td>\n",
       "      <td>A/5 21171</td>\n",
       "      <td>7.2500</td>\n",
       "      <td>NaN</td>\n",
       "      <td>S</td>\n",
       "    </tr>\n",
       "    <tr>\n",
       "      <th>1</th>\n",
       "      <td>2</td>\n",
       "      <td>1</td>\n",
       "      <td>1</td>\n",
       "      <td>Cumings, Mrs. John Bradley (Florence Briggs Th...</td>\n",
       "      <td>female</td>\n",
       "      <td>38.0</td>\n",
       "      <td>1</td>\n",
       "      <td>0</td>\n",
       "      <td>PC 17599</td>\n",
       "      <td>71.2833</td>\n",
       "      <td>C85</td>\n",
       "      <td>C</td>\n",
       "    </tr>\n",
       "    <tr>\n",
       "      <th>2</th>\n",
       "      <td>3</td>\n",
       "      <td>1</td>\n",
       "      <td>3</td>\n",
       "      <td>Heikkinen, Miss. Laina</td>\n",
       "      <td>female</td>\n",
       "      <td>26.0</td>\n",
       "      <td>0</td>\n",
       "      <td>0</td>\n",
       "      <td>STON/O2. 3101282</td>\n",
       "      <td>7.9250</td>\n",
       "      <td>NaN</td>\n",
       "      <td>S</td>\n",
       "    </tr>\n",
       "  </tbody>\n",
       "</table>\n",
       "</div>"
      ],
      "text/plain": [
       "   PassengerId  Survived  Pclass  \\\n",
       "0            1         0       3   \n",
       "1            2         1       1   \n",
       "2            3         1       3   \n",
       "\n",
       "                                                Name     Sex   Age  SibSp  \\\n",
       "0                            Braund, Mr. Owen Harris    male  22.0      1   \n",
       "1  Cumings, Mrs. John Bradley (Florence Briggs Th...  female  38.0      1   \n",
       "2                             Heikkinen, Miss. Laina  female  26.0      0   \n",
       "\n",
       "   Parch            Ticket     Fare Cabin Embarked  \n",
       "0      0         A/5 21171   7.2500   NaN        S  \n",
       "1      0          PC 17599  71.2833   C85        C  \n",
       "2      0  STON/O2. 3101282   7.9250   NaN        S  "
      ]
     },
     "execution_count": 16,
     "metadata": {},
     "output_type": "execute_result"
    }
   ],
   "source": [
    "# look at the first five rows\n",
    "train_df.head(3)"
   ]
  },
  {
   "cell_type": "markdown",
   "metadata": {},
   "source": [
    "> **A numerical/continuous variable** is a variable that has an infinite number of possible values. In other words, any value is possible for the variable. e.g. a person’s weight or age and price for the gas.\n",
    "\n",
    "> **A categorical variable** is a variable that can take on one of a limited, and usually fixed, number of possible values. e.g. gender or marriage status."
   ]
  },
  {
   "cell_type": "markdown",
   "metadata": {},
   "source": [
    "#### The features can be characterized by different types:\n",
    "\n",
    "* numerical: Age (continuous, float64), Fare (continuous, float64), SibSp (discrete, int64), Parch (discrete, int64)\n",
    "* categorial: Sex (string), Pclass (int64), Embarked (character), Survived (int64), Ticket (alphanumeric, string), Cabin (alphanumeric, string), Name (string)\n"
   ]
  },
  {
   "cell_type": "code",
   "execution_count": 17,
   "metadata": {
    "scrolled": false
   },
   "outputs": [
    {
     "data": {
      "text/html": [
       "<div>\n",
       "<style scoped>\n",
       "    .dataframe tbody tr th:only-of-type {\n",
       "        vertical-align: middle;\n",
       "    }\n",
       "\n",
       "    .dataframe tbody tr th {\n",
       "        vertical-align: top;\n",
       "    }\n",
       "\n",
       "    .dataframe thead th {\n",
       "        text-align: right;\n",
       "    }\n",
       "</style>\n",
       "<table border=\"1\" class=\"dataframe\">\n",
       "  <thead>\n",
       "    <tr style=\"text-align: right;\">\n",
       "      <th></th>\n",
       "      <th>PassengerId</th>\n",
       "      <th>Survived</th>\n",
       "      <th>Pclass</th>\n",
       "      <th>Age</th>\n",
       "      <th>SibSp</th>\n",
       "      <th>Parch</th>\n",
       "      <th>Fare</th>\n",
       "    </tr>\n",
       "  </thead>\n",
       "  <tbody>\n",
       "    <tr>\n",
       "      <th>count</th>\n",
       "      <td>891.000000</td>\n",
       "      <td>891.000000</td>\n",
       "      <td>891.000000</td>\n",
       "      <td>714.000000</td>\n",
       "      <td>891.000000</td>\n",
       "      <td>891.000000</td>\n",
       "      <td>891.000000</td>\n",
       "    </tr>\n",
       "    <tr>\n",
       "      <th>mean</th>\n",
       "      <td>446.000000</td>\n",
       "      <td>0.383838</td>\n",
       "      <td>2.308642</td>\n",
       "      <td>29.699118</td>\n",
       "      <td>0.523008</td>\n",
       "      <td>0.381594</td>\n",
       "      <td>32.204208</td>\n",
       "    </tr>\n",
       "    <tr>\n",
       "      <th>std</th>\n",
       "      <td>257.353842</td>\n",
       "      <td>0.486592</td>\n",
       "      <td>0.836071</td>\n",
       "      <td>14.526497</td>\n",
       "      <td>1.102743</td>\n",
       "      <td>0.806057</td>\n",
       "      <td>49.693429</td>\n",
       "    </tr>\n",
       "    <tr>\n",
       "      <th>min</th>\n",
       "      <td>1.000000</td>\n",
       "      <td>0.000000</td>\n",
       "      <td>1.000000</td>\n",
       "      <td>0.420000</td>\n",
       "      <td>0.000000</td>\n",
       "      <td>0.000000</td>\n",
       "      <td>0.000000</td>\n",
       "    </tr>\n",
       "    <tr>\n",
       "      <th>25%</th>\n",
       "      <td>223.500000</td>\n",
       "      <td>0.000000</td>\n",
       "      <td>2.000000</td>\n",
       "      <td>20.125000</td>\n",
       "      <td>0.000000</td>\n",
       "      <td>0.000000</td>\n",
       "      <td>7.910400</td>\n",
       "    </tr>\n",
       "    <tr>\n",
       "      <th>50%</th>\n",
       "      <td>446.000000</td>\n",
       "      <td>0.000000</td>\n",
       "      <td>3.000000</td>\n",
       "      <td>28.000000</td>\n",
       "      <td>0.000000</td>\n",
       "      <td>0.000000</td>\n",
       "      <td>14.454200</td>\n",
       "    </tr>\n",
       "    <tr>\n",
       "      <th>75%</th>\n",
       "      <td>668.500000</td>\n",
       "      <td>1.000000</td>\n",
       "      <td>3.000000</td>\n",
       "      <td>38.000000</td>\n",
       "      <td>1.000000</td>\n",
       "      <td>0.000000</td>\n",
       "      <td>31.000000</td>\n",
       "    </tr>\n",
       "    <tr>\n",
       "      <th>max</th>\n",
       "      <td>891.000000</td>\n",
       "      <td>1.000000</td>\n",
       "      <td>3.000000</td>\n",
       "      <td>80.000000</td>\n",
       "      <td>8.000000</td>\n",
       "      <td>6.000000</td>\n",
       "      <td>512.329200</td>\n",
       "    </tr>\n",
       "  </tbody>\n",
       "</table>\n",
       "</div>"
      ],
      "text/plain": [
       "       PassengerId    Survived      Pclass         Age       SibSp  \\\n",
       "count   891.000000  891.000000  891.000000  714.000000  891.000000   \n",
       "mean    446.000000    0.383838    2.308642   29.699118    0.523008   \n",
       "std     257.353842    0.486592    0.836071   14.526497    1.102743   \n",
       "min       1.000000    0.000000    1.000000    0.420000    0.000000   \n",
       "25%     223.500000    0.000000    2.000000   20.125000    0.000000   \n",
       "50%     446.000000    0.000000    3.000000   28.000000    0.000000   \n",
       "75%     668.500000    1.000000    3.000000   38.000000    1.000000   \n",
       "max     891.000000    1.000000    3.000000   80.000000    8.000000   \n",
       "\n",
       "            Parch        Fare  \n",
       "count  891.000000  891.000000  \n",
       "mean     0.381594   32.204208  \n",
       "std      0.806057   49.693429  \n",
       "min      0.000000    0.000000  \n",
       "25%      0.000000    7.910400  \n",
       "50%      0.000000   14.454200  \n",
       "75%      0.000000   31.000000  \n",
       "max      6.000000  512.329200  "
      ]
     },
     "execution_count": 17,
     "metadata": {},
     "output_type": "execute_result"
    }
   ],
   "source": [
    "# describe numerical/continuous data\n",
    "train_df.describe()"
   ]
  },
  {
   "cell_type": "markdown",
   "metadata": {},
   "source": [
    "### What is the distribution of numerical features?\n",
    "\n",
    "* Survived is a categorical feature with 0 or 1 values.\n",
    "* Around 38% samples survived.\n",
    "* ???????\n",
    "* ???????\n",
    "* ???????\n",
    "* ???????\n"
   ]
  },
  {
   "cell_type": "code",
   "execution_count": 18,
   "metadata": {},
   "outputs": [
    {
     "data": {
      "text/html": [
       "<div>\n",
       "<style scoped>\n",
       "    .dataframe tbody tr th:only-of-type {\n",
       "        vertical-align: middle;\n",
       "    }\n",
       "\n",
       "    .dataframe tbody tr th {\n",
       "        vertical-align: top;\n",
       "    }\n",
       "\n",
       "    .dataframe thead th {\n",
       "        text-align: right;\n",
       "    }\n",
       "</style>\n",
       "<table border=\"1\" class=\"dataframe\">\n",
       "  <thead>\n",
       "    <tr style=\"text-align: right;\">\n",
       "      <th></th>\n",
       "      <th>Name</th>\n",
       "      <th>Sex</th>\n",
       "      <th>Ticket</th>\n",
       "      <th>Cabin</th>\n",
       "      <th>Embarked</th>\n",
       "    </tr>\n",
       "  </thead>\n",
       "  <tbody>\n",
       "    <tr>\n",
       "      <th>count</th>\n",
       "      <td>891</td>\n",
       "      <td>891</td>\n",
       "      <td>891</td>\n",
       "      <td>204</td>\n",
       "      <td>889</td>\n",
       "    </tr>\n",
       "    <tr>\n",
       "      <th>unique</th>\n",
       "      <td>891</td>\n",
       "      <td>2</td>\n",
       "      <td>681</td>\n",
       "      <td>147</td>\n",
       "      <td>3</td>\n",
       "    </tr>\n",
       "    <tr>\n",
       "      <th>top</th>\n",
       "      <td>Yasbeck, Mr. Antoni</td>\n",
       "      <td>male</td>\n",
       "      <td>CA. 2343</td>\n",
       "      <td>G6</td>\n",
       "      <td>S</td>\n",
       "    </tr>\n",
       "    <tr>\n",
       "      <th>freq</th>\n",
       "      <td>1</td>\n",
       "      <td>577</td>\n",
       "      <td>7</td>\n",
       "      <td>4</td>\n",
       "      <td>644</td>\n",
       "    </tr>\n",
       "  </tbody>\n",
       "</table>\n",
       "</div>"
      ],
      "text/plain": [
       "                       Name   Sex    Ticket Cabin Embarked\n",
       "count                   891   891       891   204      889\n",
       "unique                  891     2       681   147        3\n",
       "top     Yasbeck, Mr. Antoni  male  CA. 2343    G6        S\n",
       "freq                      1   577         7     4      644"
      ]
     },
     "execution_count": 18,
     "metadata": {},
     "output_type": "execute_result"
    }
   ],
   "source": [
    "# describe object/categorical data\n",
    "train_df.describe(include=['O'])"
   ]
  },
  {
   "cell_type": "markdown",
   "metadata": {},
   "source": [
    "### What is the distribution of categorical features?\n",
    "* Names are unique across the dataset (count=unique=891)\n",
    "* Sex variable as two possible values with 65% male (top=male, freq=577/count=891).\n",
    "* ???????\n",
    "* ???????\n",
    "* ???????\n",
    "* ???????"
   ]
  },
  {
   "cell_type": "code",
   "execution_count": null,
   "metadata": {},
   "outputs": [],
   "source": []
  },
  {
   "cell_type": "markdown",
   "metadata": {},
   "source": [
    "## 3. Univariate Analysis: check correlation with Survived (outcome/ dependent variable)"
   ]
  },
  {
   "cell_type": "markdown",
   "metadata": {},
   "source": [
    "### 3.1 Use table for categorical or some countable numerical variables"
   ]
  },
  {
   "cell_type": "code",
   "execution_count": 19,
   "metadata": {},
   "outputs": [
    {
     "data": {
      "text/html": [
       "<div>\n",
       "<style scoped>\n",
       "    .dataframe tbody tr th:only-of-type {\n",
       "        vertical-align: middle;\n",
       "    }\n",
       "\n",
       "    .dataframe tbody tr th {\n",
       "        vertical-align: top;\n",
       "    }\n",
       "\n",
       "    .dataframe thead th {\n",
       "        text-align: right;\n",
       "    }\n",
       "</style>\n",
       "<table border=\"1\" class=\"dataframe\">\n",
       "  <thead>\n",
       "    <tr style=\"text-align: right;\">\n",
       "      <th></th>\n",
       "      <th>Sex</th>\n",
       "      <th>Survived</th>\n",
       "    </tr>\n",
       "  </thead>\n",
       "  <tbody>\n",
       "    <tr>\n",
       "      <th>0</th>\n",
       "      <td>female</td>\n",
       "      <td>0.742038</td>\n",
       "    </tr>\n",
       "    <tr>\n",
       "      <th>1</th>\n",
       "      <td>male</td>\n",
       "      <td>0.188908</td>\n",
       "    </tr>\n",
       "  </tbody>\n",
       "</table>\n",
       "</div>"
      ],
      "text/plain": [
       "      Sex  Survived\n",
       "0  female  0.742038\n",
       "1    male  0.188908"
      ]
     },
     "execution_count": 19,
     "metadata": {},
     "output_type": "execute_result"
    }
   ],
   "source": [
    "# check Sex - Survived correlation\n",
    "train_df[[\"Sex\", \"Survived\"]].groupby(['Sex'], \n",
    "          as_index=False).mean().sort_values(by='Survived', ascending=False)"
   ]
  },
  {
   "cell_type": "markdown",
   "metadata": {},
   "source": [
    "-----\n",
    "#### Exercise: check Pclass - Survived correlation"
   ]
  },
  {
   "cell_type": "code",
   "execution_count": null,
   "metadata": {},
   "outputs": [],
   "source": [
    "##### Please insert your code here #####\n",
    "\n",
    "\n"
   ]
  },
  {
   "cell_type": "markdown",
   "metadata": {},
   "source": [
    "#### Exercise: check SibSp - Survived correlation"
   ]
  },
  {
   "cell_type": "code",
   "execution_count": null,
   "metadata": {},
   "outputs": [],
   "source": [
    "##### Please insert your code here #####\n",
    "\n"
   ]
  },
  {
   "cell_type": "markdown",
   "metadata": {},
   "source": [
    "#### Exercise: check Parch - Survived correlation"
   ]
  },
  {
   "cell_type": "code",
   "execution_count": null,
   "metadata": {},
   "outputs": [],
   "source": [
    "##### Please insert your code here #####\n",
    "\n"
   ]
  },
  {
   "cell_type": "markdown",
   "metadata": {},
   "source": [
    "### What assumptions we can conclude based on above table: \n",
    "* ???????\n",
    "* ???????"
   ]
  },
  {
   "cell_type": "markdown",
   "metadata": {},
   "source": [
    "-----\n",
    "### 3.2 Use histogram for numerical variables"
   ]
  },
  {
   "cell_type": "code",
   "execution_count": 20,
   "metadata": {},
   "outputs": [
    {
     "data": {
      "image/png": "[encoded data removed]",
      "text/plain": [
       "<matplotlib.figure.Figure at 0x113ae09e8>"
      ]
     },
     "metadata": {},
     "output_type": "display_data"
    }
   ],
   "source": [
    "# Age histograms depending on Survived\n",
    "grid = sns.FacetGrid(train_df, col='Survived');\n",
    "grid.map(plt.hist, 'Age', bins=20); #FacetGrid.map() is calling to make a plot"
   ]
  },
  {
   "cell_type": "markdown",
   "metadata": {},
   "source": [
    "> FacetGrid is an matplotlib figure object, used to draw plots with multiple Axes."
   ]
  },
  {
   "cell_type": "markdown",
   "metadata": {},
   "source": [
    "#### Exercise: check Fare histograms depending on Survived"
   ]
  },
  {
   "cell_type": "code",
   "execution_count": null,
   "metadata": {},
   "outputs": [],
   "source": [
    "##### Please insert your code here #####\n",
    "\n",
    "\n"
   ]
  },
  {
   "cell_type": "code",
   "execution_count": null,
   "metadata": {},
   "outputs": [],
   "source": []
  },
  {
   "cell_type": "code",
   "execution_count": 21,
   "metadata": {
    "scrolled": true
   },
   "outputs": [
    {
     "data": {
      "image/png": "[encoded data removed]",
      "text/plain": [
       "<matplotlib.figure.Figure at 0x113d91470>"
      ]
     },
     "metadata": {},
     "output_type": "display_data"
    }
   ],
   "source": [
    "# Age histograms depending on Survived, Sex\n",
    "grid = sns.FacetGrid(train_df, col='Survived', row='Sex', size=2.2, aspect=1.6)\n",
    "grid.map(plt.hist, 'Age', alpha=.5, bins=20)\n",
    "grid.add_legend();\n",
    "\n",
    "#define aspect ratio of each facet"
   ]
  },
  {
   "cell_type": "code",
   "execution_count": 22,
   "metadata": {
    "scrolled": true
   },
   "outputs": [
    {
     "data": {
      "image/png": "[encoded data removed]",
      "text/plain": [
       "<matplotlib.figure.Figure at 0x1141b6898>"
      ]
     },
     "metadata": {},
     "output_type": "display_data"
    }
   ],
   "source": [
    "# Age histograms depending on Survived, Pclass\n",
    "grid = sns.FacetGrid(train_df, col='Survived', row='Pclass', size=2.2, aspect=1.6)\n",
    "grid.map(plt.hist, 'Age', alpha=.5, bins=20) #alpha: 0.0 transparent through 1.0 opaque\n",
    "grid.add_legend();"
   ]
  },
  {
   "cell_type": "markdown",
   "metadata": {},
   "source": [
    "### Our assumptions: \n",
    "* ???????\n",
    "* ???????\n",
    "* ???????"
   ]
  },
  {
   "cell_type": "markdown",
   "metadata": {},
   "source": [
    "### 3.3 Plots for correlating categorical features"
   ]
  },
  {
   "cell_type": "code",
   "execution_count": 23,
   "metadata": {},
   "outputs": [
    {
     "name": "stderr",
     "output_type": "stream",
     "text": [
      "/Library/Frameworks/Python.framework/Versions/3.6/lib/python3.6/site-packages/seaborn/axisgrid.py:703: UserWarning: Using the pointplot function without specifying `order` is likely to produce an incorrect plot.\n",
      "  warnings.warn(warning)\n",
      "/Library/Frameworks/Python.framework/Versions/3.6/lib/python3.6/site-packages/seaborn/axisgrid.py:708: UserWarning: Using the pointplot function without specifying `hue_order` is likely to produce an incorrect plot.\n",
      "  warnings.warn(warning)\n"
     ]
    },
    {
     "data": {
      "text/plain": [
       "<seaborn.axisgrid.FacetGrid at 0x114692cf8>"
      ]
     },
     "execution_count": 23,
     "metadata": {},
     "output_type": "execute_result"
    },
    {
     "data": {
      "image/png": "[encoded data removed]",
      "text/plain": [
       "<matplotlib.figure.Figure at 0x1146a1080>"
      ]
     },
     "metadata": {},
     "output_type": "display_data"
    }
   ],
   "source": [
    "# Survived values depending on Embarked, Sex, Pclass\n",
    "grid = sns.FacetGrid(train_df, row='Embarked', size=2.2, aspect=1.6)\n",
    "grid.map(sns.pointplot, 'Pclass', 'Survived', 'Sex', palette='deep')\n",
    "grid.add_legend()"
   ]
  },
  {
   "cell_type": "markdown",
   "metadata": {},
   "source": [
    "**Observations**:\n",
    "\n",
    "* ???????\n",
    "* ???????"
   ]
  },
  {
   "cell_type": "code",
   "execution_count": null,
   "metadata": {},
   "outputs": [],
   "source": []
  },
  {
   "cell_type": "markdown",
   "metadata": {},
   "source": [
    "## 4. Manipulating data\n",
    "\n",
    "By having analyzed the data we will perform the following steps:\n",
    "\n",
    "1. convert feature: Sex\n",
    "2. complete and convert feature: Embarked\n",
    "3. complete and convert feature: Age\n",
    "4. complete and convert feature: Fare\n",
    "5. create new feature: Title\n",
    "6. create new feature: Familysize\n",
    "7. create new feature: IsAlone\n",
    "8. create new features: Age*Pclass\n",
    "9. create new feature: HasCabin\n",
    "10. drop features\n"
   ]
  },
  {
   "cell_type": "markdown",
   "metadata": {},
   "source": [
    "Before we start, let's first combine train and test data for manipulation."
   ]
  },
  {
   "cell_type": "code",
   "execution_count": 24,
   "metadata": {},
   "outputs": [
    {
     "name": "stdout",
     "output_type": "stream",
     "text": [
      "data_df.shape =  (1309, 12)\n"
     ]
    }
   ],
   "source": [
    "# combine train and test data for manipulation\n",
    "data_df = pd.concat((train_df, test_df)).reset_index(drop=True)\n",
    "\n",
    "print('data_df.shape = ', data_df.shape)"
   ]
  },
  {
   "cell_type": "markdown",
   "metadata": {},
   "source": [
    "### 4.1 convert features : Sex"
   ]
  },
  {
   "cell_type": "code",
   "execution_count": 25,
   "metadata": {},
   "outputs": [],
   "source": [
    "# make categorial feature numerical\n",
    "data_df['Sex'] = data_df['Sex'].map( {'female': 1, 'male': 0} ).astype(int)"
   ]
  },
  {
   "cell_type": "markdown",
   "metadata": {},
   "source": [
    "### 4.2 complete and convert feature: Embarked"
   ]
  },
  {
   "cell_type": "code",
   "execution_count": 26,
   "metadata": {},
   "outputs": [
    {
     "name": "stdout",
     "output_type": "stream",
     "text": [
      "2 missing values\n"
     ]
    }
   ],
   "source": [
    "# check missing values\n",
    "print(data_df.Embarked.isnull().values.sum(),'missing values')"
   ]
  },
  {
   "cell_type": "code",
   "execution_count": 27,
   "metadata": {},
   "outputs": [
    {
     "name": "stdout",
     "output_type": "stream",
     "text": [
      "S = most frequent\n"
     ]
    }
   ],
   "source": [
    "# most frequent occurence of Embarked value\n",
    "freq_port = data_df.Embarked.dropna().mode()[0]\n",
    "print(freq_port,'= most frequent');\n"
   ]
  },
  {
   "cell_type": "code",
   "execution_count": 28,
   "metadata": {},
   "outputs": [],
   "source": [
    "# replace na entries with most frequent value of Embarked\n",
    "data_df['Embarked'] = data_df['Embarked'].fillna(freq_port)"
   ]
  },
  {
   "cell_type": "code",
   "execution_count": 29,
   "metadata": {},
   "outputs": [
    {
     "data": {
      "text/html": [
       "<div>\n",
       "<style scoped>\n",
       "    .dataframe tbody tr th:only-of-type {\n",
       "        vertical-align: middle;\n",
       "    }\n",
       "\n",
       "    .dataframe tbody tr th {\n",
       "        vertical-align: top;\n",
       "    }\n",
       "\n",
       "    .dataframe thead th {\n",
       "        text-align: right;\n",
       "    }\n",
       "</style>\n",
       "<table border=\"1\" class=\"dataframe\">\n",
       "  <thead>\n",
       "    <tr style=\"text-align: right;\">\n",
       "      <th></th>\n",
       "      <th>Embarked</th>\n",
       "      <th>Survived</th>\n",
       "    </tr>\n",
       "  </thead>\n",
       "  <tbody>\n",
       "    <tr>\n",
       "      <th>0</th>\n",
       "      <td>C</td>\n",
       "      <td>0.553571</td>\n",
       "    </tr>\n",
       "    <tr>\n",
       "      <th>1</th>\n",
       "      <td>Q</td>\n",
       "      <td>0.389610</td>\n",
       "    </tr>\n",
       "    <tr>\n",
       "      <th>2</th>\n",
       "      <td>S</td>\n",
       "      <td>0.339009</td>\n",
       "    </tr>\n",
       "  </tbody>\n",
       "</table>\n",
       "</div>"
      ],
      "text/plain": [
       "  Embarked  Survived\n",
       "0        C  0.553571\n",
       "1        Q  0.389610\n",
       "2        S  0.339009"
      ]
     },
     "execution_count": 29,
     "metadata": {},
     "output_type": "execute_result"
    }
   ],
   "source": [
    "data_df[['Embarked', 'Survived']].groupby(['Embarked'],\n",
    "    as_index=False).mean().sort_values(by='Survived', ascending=False)"
   ]
  },
  {
   "cell_type": "markdown",
   "metadata": {},
   "source": [
    "### 4.3 complete and convert feature: Age"
   ]
  },
  {
   "cell_type": "code",
   "execution_count": 30,
   "metadata": {},
   "outputs": [
    {
     "name": "stdout",
     "output_type": "stream",
     "text": [
      "263 missing values\n"
     ]
    }
   ],
   "source": [
    "# check missing values\n",
    "print(data_df.Age.isnull().values.sum(), 'missing values')"
   ]
  },
  {
   "cell_type": "markdown",
   "metadata": {},
   "source": [
    "That's a lot missing values. Let's complete missing age entries by using information on Sex, Pclass (bc they are strongly correlated. check above)."
   ]
  },
  {
   "cell_type": "code",
   "execution_count": 31,
   "metadata": {},
   "outputs": [],
   "source": [
    "guess_ages = np.zeros((2,3));\n",
    "\n",
    "#get mean in each Sex and Pclass group.\n",
    "for i in range(0, 2):\n",
    "    for j in range(0, 3):\n",
    "        guess_df = data_df[(data_df['Sex'] == i) & \n",
    "                           (data_df['Pclass'] == j+1)]['Age'].dropna()\n",
    "\n",
    "        \n",
    "        age_mean = guess_df.mean()\n",
    "        age_std = guess_df.std()\n",
    "        age_guess = np.random.normal(age_mean, age_std)\n",
    "\n",
    "        guess_ages[i,j] = int(age_guess)\n",
    "\n",
    "\n",
    "#fill in the missing value based on their Sex and Pclass tag.\n",
    "for i in range(0, 2):\n",
    "    for j in range(0, 3):\n",
    "        data_df.loc[(data_df.Age.isnull()) & (data_df.Sex == i) & \n",
    "                    (data_df.Pclass == j+1),'Age'] = guess_ages[i,j]\n"
   ]
  },
  {
   "cell_type": "code",
   "execution_count": 32,
   "metadata": {},
   "outputs": [
    {
     "name": "stdout",
     "output_type": "stream",
     "text": [
      "0 missing values\n"
     ]
    }
   ],
   "source": [
    "data_df['Age'] = data_df['Age'].astype(int)\n",
    "\n",
    "print(data_df.Age.isnull().values.sum(), 'missing values')"
   ]
  },
  {
   "cell_type": "markdown",
   "metadata": {},
   "source": [
    "We can use the Age as either numerical or categorical variable. However, based on the univeriate analysis, we found younger and infant are more likely to survive. Therefore, we want to create a new categorical variable: Ageband."
   ]
  },
  {
   "cell_type": "code",
   "execution_count": 33,
   "metadata": {},
   "outputs": [
    {
     "data": {
      "text/html": [
       "<div>\n",
       "<style scoped>\n",
       "    .dataframe tbody tr th:only-of-type {\n",
       "        vertical-align: middle;\n",
       "    }\n",
       "\n",
       "    .dataframe tbody tr th {\n",
       "        vertical-align: top;\n",
       "    }\n",
       "\n",
       "    .dataframe thead th {\n",
       "        text-align: right;\n",
       "    }\n",
       "</style>\n",
       "<table border=\"1\" class=\"dataframe\">\n",
       "  <thead>\n",
       "    <tr style=\"text-align: right;\">\n",
       "      <th></th>\n",
       "      <th>AgeBand</th>\n",
       "      <th>Survived</th>\n",
       "    </tr>\n",
       "  </thead>\n",
       "  <tbody>\n",
       "    <tr>\n",
       "      <th>0</th>\n",
       "      <td>(-0.001, 20.0]</td>\n",
       "      <td>0.438424</td>\n",
       "    </tr>\n",
       "    <tr>\n",
       "      <th>1</th>\n",
       "      <td>(20.0, 25.0]</td>\n",
       "      <td>0.237209</td>\n",
       "    </tr>\n",
       "    <tr>\n",
       "      <th>2</th>\n",
       "      <td>(25.0, 29.0]</td>\n",
       "      <td>0.456000</td>\n",
       "    </tr>\n",
       "    <tr>\n",
       "      <th>3</th>\n",
       "      <td>(29.0, 39.0]</td>\n",
       "      <td>0.426136</td>\n",
       "    </tr>\n",
       "    <tr>\n",
       "      <th>4</th>\n",
       "      <td>(39.0, 80.0]</td>\n",
       "      <td>0.406977</td>\n",
       "    </tr>\n",
       "  </tbody>\n",
       "</table>\n",
       "</div>"
      ],
      "text/plain": [
       "          AgeBand  Survived\n",
       "0  (-0.001, 20.0]  0.438424\n",
       "1    (20.0, 25.0]  0.237209\n",
       "2    (25.0, 29.0]  0.456000\n",
       "3    (29.0, 39.0]  0.426136\n",
       "4    (39.0, 80.0]  0.406977"
      ]
     },
     "execution_count": 33,
     "metadata": {},
     "output_type": "execute_result"
    }
   ],
   "source": [
    "# create new feature AgeBand\n",
    "data_df['AgeBand'] = pd.qcut(data_df['Age'], 5)\n",
    "data_df[['AgeBand', 'Survived']].groupby(['AgeBand'], \n",
    "            as_index=False).mean().sort_values(by='AgeBand', ascending=True)\n"
   ]
  },
  {
   "cell_type": "code",
   "execution_count": 34,
   "metadata": {},
   "outputs": [],
   "source": [
    "# Creat AgeBins with ordinals based on the bands in AgeBand\n",
    "data_df.loc[data_df['Age'] <= 21, 'AgeBin'] = 0\n",
    "data_df.loc[(data_df['Age'] > 21) & (data_df['Age'] <= 28), 'AgeBin'] = 1\n",
    "data_df.loc[(data_df['Age'] > 28) & (data_df['Age'] <= 35), 'AgeBin'] = 2\n",
    "data_df.loc[(data_df['Age'] > 35) & (data_df['Age'] <= 40), 'AgeBin'] = 3\n",
    "data_df.loc[data_df['Age'] > 40, 'AgeBin'] =4\n"
   ]
  },
  {
   "cell_type": "code",
   "execution_count": 35,
   "metadata": {},
   "outputs": [
    {
     "name": "stdout",
     "output_type": "stream",
     "text": [
      "0 missing values\n"
     ]
    }
   ],
   "source": [
    "# drop AgeBand\n",
    "data_df = data_df.drop(['AgeBand'], axis=1)\n",
    "\n",
    "print(data_df.AgeBin.isnull().values.sum(), 'missing values')\n",
    "#data_df.head()"
   ]
  },
  {
   "cell_type": "markdown",
   "metadata": {},
   "source": [
    "### Exercise: complete and convert feature: Fare"
   ]
  },
  {
   "cell_type": "markdown",
   "metadata": {},
   "source": [
    "#### Problem 1: how to check the missing value in Fare?"
   ]
  },
  {
   "cell_type": "code",
   "execution_count": null,
   "metadata": {},
   "outputs": [],
   "source": [
    "########insert your code here#######\n",
    "\n",
    "\n"
   ]
  },
  {
   "cell_type": "markdown",
   "metadata": {},
   "source": [
    "#### Problem 2: how to fill in the missing value with the overall median?"
   ]
  },
  {
   "cell_type": "code",
   "execution_count": null,
   "metadata": {},
   "outputs": [],
   "source": [
    "########insert your code here#######\n",
    "\n",
    "\n"
   ]
  },
  {
   "cell_type": "markdown",
   "metadata": {},
   "source": [
    "#### Problem 3: how to create feature FareBin by ordinals based on FareBand?"
   ]
  },
  {
   "cell_type": "code",
   "execution_count": null,
   "metadata": {},
   "outputs": [],
   "source": [
    "# create feature FareBand, since the Fare distribution is skewed.\n",
    "data_df['FareBand'] = pd.qcut(data_df['Fare'], 5)\n",
    "data_df[['FareBand', 'Survived']].groupby(['FareBand'], \n",
    "        as_index=False).mean().sort_values(by='FareBand', ascending=True)\n",
    "\n",
    "########insert your code here#######\n",
    "\n",
    "\n",
    "\n",
    "\n",
    "\n"
   ]
  },
  {
   "cell_type": "code",
   "execution_count": null,
   "metadata": {},
   "outputs": [],
   "source": [
    "data_df['FareBin'] = data_df['FareBin'].astype(int)\n",
    "\n",
    "data_df = data_df.drop(['FareBand'], axis=1)\n",
    "\n",
    "data_df.head()"
   ]
  },
  {
   "cell_type": "markdown",
   "metadata": {},
   "source": [
    "! It is pretty interesting here. The survival rate increases with the Fare prize."
   ]
  },
  {
   "cell_type": "markdown",
   "metadata": {},
   "source": [
    "### 4.5 create new feature: title"
   ]
  },
  {
   "cell_type": "code",
   "execution_count": 36,
   "metadata": {},
   "outputs": [
    {
     "data": {
      "text/html": [
       "<div>\n",
       "<style scoped>\n",
       "    .dataframe tbody tr th:only-of-type {\n",
       "        vertical-align: middle;\n",
       "    }\n",
       "\n",
       "    .dataframe tbody tr th {\n",
       "        vertical-align: top;\n",
       "    }\n",
       "\n",
       "    .dataframe thead th {\n",
       "        text-align: right;\n",
       "    }\n",
       "</style>\n",
       "<table border=\"1\" class=\"dataframe\">\n",
       "  <thead>\n",
       "    <tr style=\"text-align: right;\">\n",
       "      <th>Title</th>\n",
       "      <th>Capt</th>\n",
       "      <th>Col</th>\n",
       "      <th>Countess</th>\n",
       "      <th>Don</th>\n",
       "      <th>Dr</th>\n",
       "      <th>Jonkheer</th>\n",
       "      <th>Lady</th>\n",
       "      <th>Major</th>\n",
       "      <th>Master</th>\n",
       "      <th>Miss</th>\n",
       "      <th>Mlle</th>\n",
       "      <th>Mme</th>\n",
       "      <th>Mr</th>\n",
       "      <th>Mrs</th>\n",
       "      <th>Ms</th>\n",
       "      <th>Rev</th>\n",
       "      <th>Sir</th>\n",
       "    </tr>\n",
       "    <tr>\n",
       "      <th>Survived</th>\n",
       "      <th></th>\n",
       "      <th></th>\n",
       "      <th></th>\n",
       "      <th></th>\n",
       "      <th></th>\n",
       "      <th></th>\n",
       "      <th></th>\n",
       "      <th></th>\n",
       "      <th></th>\n",
       "      <th></th>\n",
       "      <th></th>\n",
       "      <th></th>\n",
       "      <th></th>\n",
       "      <th></th>\n",
       "      <th></th>\n",
       "      <th></th>\n",
       "      <th></th>\n",
       "    </tr>\n",
       "  </thead>\n",
       "  <tbody>\n",
       "    <tr>\n",
       "      <th>0</th>\n",
       "      <td>1</td>\n",
       "      <td>1</td>\n",
       "      <td>0</td>\n",
       "      <td>1</td>\n",
       "      <td>4</td>\n",
       "      <td>1</td>\n",
       "      <td>0</td>\n",
       "      <td>1</td>\n",
       "      <td>17</td>\n",
       "      <td>55</td>\n",
       "      <td>0</td>\n",
       "      <td>0</td>\n",
       "      <td>436</td>\n",
       "      <td>26</td>\n",
       "      <td>0</td>\n",
       "      <td>6</td>\n",
       "      <td>0</td>\n",
       "    </tr>\n",
       "    <tr>\n",
       "      <th>1</th>\n",
       "      <td>0</td>\n",
       "      <td>1</td>\n",
       "      <td>1</td>\n",
       "      <td>0</td>\n",
       "      <td>3</td>\n",
       "      <td>0</td>\n",
       "      <td>1</td>\n",
       "      <td>1</td>\n",
       "      <td>23</td>\n",
       "      <td>127</td>\n",
       "      <td>2</td>\n",
       "      <td>1</td>\n",
       "      <td>81</td>\n",
       "      <td>99</td>\n",
       "      <td>1</td>\n",
       "      <td>0</td>\n",
       "      <td>1</td>\n",
       "    </tr>\n",
       "  </tbody>\n",
       "</table>\n",
       "</div>"
      ],
      "text/plain": [
       "Title     Capt  Col  Countess  Don  Dr  Jonkheer  Lady  Major  Master  Miss  \\\n",
       "Survived                                                                      \n",
       "0            1    1         0    1   4         1     0      1      17    55   \n",
       "1            0    1         1    0   3         0     1      1      23   127   \n",
       "\n",
       "Title     Mlle  Mme   Mr  Mrs  Ms  Rev  Sir  \n",
       "Survived                                     \n",
       "0            0    0  436   26   0    6    0  \n",
       "1            2    1   81   99   1    0    1  "
      ]
     },
     "execution_count": 36,
     "metadata": {},
     "output_type": "execute_result"
    }
   ],
   "source": [
    "# extract title from Name and then create new feature: Title  \n",
    "data_df['Title'] = data_df.Name.str.extract(' ([A-Za-z]+)\\.', expand=False)\n",
    "pd.crosstab(train_df['Survived'], data_df['Title'])"
   ]
  },
  {
   "cell_type": "markdown",
   "metadata": {},
   "source": [
    "> expand : bool, default False\n",
    "* If True, return DataFrame.\n",
    "* If False, return Series/Index/DataFrame."
   ]
  },
  {
   "cell_type": "code",
   "execution_count": 37,
   "metadata": {},
   "outputs": [
    {
     "data": {
      "text/html": [
       "<div>\n",
       "<style scoped>\n",
       "    .dataframe tbody tr th:only-of-type {\n",
       "        vertical-align: middle;\n",
       "    }\n",
       "\n",
       "    .dataframe tbody tr th {\n",
       "        vertical-align: top;\n",
       "    }\n",
       "\n",
       "    .dataframe thead th {\n",
       "        text-align: right;\n",
       "    }\n",
       "</style>\n",
       "<table border=\"1\" class=\"dataframe\">\n",
       "  <thead>\n",
       "    <tr style=\"text-align: right;\">\n",
       "      <th>Title</th>\n",
       "      <th>Capt</th>\n",
       "      <th>Col</th>\n",
       "      <th>Countess</th>\n",
       "      <th>Don</th>\n",
       "      <th>Dona</th>\n",
       "      <th>Dr</th>\n",
       "      <th>Jonkheer</th>\n",
       "      <th>Lady</th>\n",
       "      <th>Major</th>\n",
       "      <th>Master</th>\n",
       "      <th>Miss</th>\n",
       "      <th>Mlle</th>\n",
       "      <th>Mme</th>\n",
       "      <th>Mr</th>\n",
       "      <th>Mrs</th>\n",
       "      <th>Ms</th>\n",
       "      <th>Rev</th>\n",
       "      <th>Sir</th>\n",
       "    </tr>\n",
       "    <tr>\n",
       "      <th>Sex</th>\n",
       "      <th></th>\n",
       "      <th></th>\n",
       "      <th></th>\n",
       "      <th></th>\n",
       "      <th></th>\n",
       "      <th></th>\n",
       "      <th></th>\n",
       "      <th></th>\n",
       "      <th></th>\n",
       "      <th></th>\n",
       "      <th></th>\n",
       "      <th></th>\n",
       "      <th></th>\n",
       "      <th></th>\n",
       "      <th></th>\n",
       "      <th></th>\n",
       "      <th></th>\n",
       "      <th></th>\n",
       "    </tr>\n",
       "  </thead>\n",
       "  <tbody>\n",
       "    <tr>\n",
       "      <th>0</th>\n",
       "      <td>1</td>\n",
       "      <td>4</td>\n",
       "      <td>0</td>\n",
       "      <td>1</td>\n",
       "      <td>0</td>\n",
       "      <td>7</td>\n",
       "      <td>1</td>\n",
       "      <td>0</td>\n",
       "      <td>2</td>\n",
       "      <td>61</td>\n",
       "      <td>0</td>\n",
       "      <td>0</td>\n",
       "      <td>0</td>\n",
       "      <td>757</td>\n",
       "      <td>0</td>\n",
       "      <td>0</td>\n",
       "      <td>8</td>\n",
       "      <td>1</td>\n",
       "    </tr>\n",
       "    <tr>\n",
       "      <th>1</th>\n",
       "      <td>0</td>\n",
       "      <td>0</td>\n",
       "      <td>1</td>\n",
       "      <td>0</td>\n",
       "      <td>1</td>\n",
       "      <td>1</td>\n",
       "      <td>0</td>\n",
       "      <td>1</td>\n",
       "      <td>0</td>\n",
       "      <td>0</td>\n",
       "      <td>260</td>\n",
       "      <td>2</td>\n",
       "      <td>1</td>\n",
       "      <td>0</td>\n",
       "      <td>197</td>\n",
       "      <td>2</td>\n",
       "      <td>0</td>\n",
       "      <td>0</td>\n",
       "    </tr>\n",
       "  </tbody>\n",
       "</table>\n",
       "</div>"
      ],
      "text/plain": [
       "Title  Capt  Col  Countess  Don  Dona  Dr  Jonkheer  Lady  Major  Master  \\\n",
       "Sex                                                                        \n",
       "0         1    4         0    1     0   7         1     0      2      61   \n",
       "1         0    0         1    0     1   1         0     1      0       0   \n",
       "\n",
       "Title  Miss  Mlle  Mme   Mr  Mrs  Ms  Rev  Sir  \n",
       "Sex                                             \n",
       "0         0     0    0  757    0   0    8    1  \n",
       "1       260     2    1    0  197   2    0    0  "
      ]
     },
     "execution_count": 37,
     "metadata": {},
     "output_type": "execute_result"
    }
   ],
   "source": [
    "# correlation of Sex and Title\n",
    "pd.crosstab(data_df['Sex'], data_df['Title'])"
   ]
  },
  {
   "cell_type": "code",
   "execution_count": 38,
   "metadata": {},
   "outputs": [],
   "source": [
    "# reduce the number of titles\n",
    "data_df['Title'] = data_df['Title'].replace(['Lady', 'Countess','Capt', 'Col',\n",
    "                                             'Don', 'Dr', 'Major', 'Rev', 'Sir',\n",
    "                                             'Jonkheer', 'Dona'], 'Rare')\n",
    "data_df['Title'] = data_df['Title'].replace('Mlle', 'Miss')\n",
    "data_df['Title'] = data_df['Title'].replace('Ms', 'Miss')\n",
    "data_df['Title'] = data_df['Title'].replace('Mme', 'Mrs')\n"
   ]
  },
  {
   "cell_type": "code",
   "execution_count": 39,
   "metadata": {},
   "outputs": [
    {
     "name": "stdout",
     "output_type": "stream",
     "text": [
      "missing titles =  0\n"
     ]
    }
   ],
   "source": [
    "# no missing titles\n",
    "print('missing titles = ', data_df.Title.isnull().sum())"
   ]
  },
  {
   "cell_type": "markdown",
   "metadata": {},
   "source": [
    "### 4.6 create new feature: FamilySize"
   ]
  },
  {
   "cell_type": "code",
   "execution_count": 40,
   "metadata": {},
   "outputs": [
    {
     "data": {
      "text/html": [
       "<div>\n",
       "<style scoped>\n",
       "    .dataframe tbody tr th:only-of-type {\n",
       "        vertical-align: middle;\n",
       "    }\n",
       "\n",
       "    .dataframe tbody tr th {\n",
       "        vertical-align: top;\n",
       "    }\n",
       "\n",
       "    .dataframe thead th {\n",
       "        text-align: right;\n",
       "    }\n",
       "</style>\n",
       "<table border=\"1\" class=\"dataframe\">\n",
       "  <thead>\n",
       "    <tr style=\"text-align: right;\">\n",
       "      <th></th>\n",
       "      <th>FamilySize</th>\n",
       "      <th>Survived</th>\n",
       "    </tr>\n",
       "  </thead>\n",
       "  <tbody>\n",
       "    <tr>\n",
       "      <th>3</th>\n",
       "      <td>4</td>\n",
       "      <td>0.724138</td>\n",
       "    </tr>\n",
       "    <tr>\n",
       "      <th>2</th>\n",
       "      <td>3</td>\n",
       "      <td>0.578431</td>\n",
       "    </tr>\n",
       "    <tr>\n",
       "      <th>1</th>\n",
       "      <td>2</td>\n",
       "      <td>0.552795</td>\n",
       "    </tr>\n",
       "    <tr>\n",
       "      <th>6</th>\n",
       "      <td>7</td>\n",
       "      <td>0.333333</td>\n",
       "    </tr>\n",
       "    <tr>\n",
       "      <th>0</th>\n",
       "      <td>1</td>\n",
       "      <td>0.303538</td>\n",
       "    </tr>\n",
       "    <tr>\n",
       "      <th>4</th>\n",
       "      <td>5</td>\n",
       "      <td>0.200000</td>\n",
       "    </tr>\n",
       "    <tr>\n",
       "      <th>5</th>\n",
       "      <td>6</td>\n",
       "      <td>0.136364</td>\n",
       "    </tr>\n",
       "    <tr>\n",
       "      <th>7</th>\n",
       "      <td>8</td>\n",
       "      <td>0.000000</td>\n",
       "    </tr>\n",
       "    <tr>\n",
       "      <th>8</th>\n",
       "      <td>11</td>\n",
       "      <td>0.000000</td>\n",
       "    </tr>\n",
       "  </tbody>\n",
       "</table>\n",
       "</div>"
      ],
      "text/plain": [
       "   FamilySize  Survived\n",
       "3           4  0.724138\n",
       "2           3  0.578431\n",
       "1           2  0.552795\n",
       "6           7  0.333333\n",
       "0           1  0.303538\n",
       "4           5  0.200000\n",
       "5           6  0.136364\n",
       "7           8  0.000000\n",
       "8          11  0.000000"
      ]
     },
     "execution_count": 40,
     "metadata": {},
     "output_type": "execute_result"
    }
   ],
   "source": [
    "# create new feature FamilySize\n",
    "data_df['FamilySize'] = data_df['SibSp'] + data_df['Parch'] + 1\n",
    "\n",
    "data_df[['FamilySize', 'Survived']].groupby(['FamilySize'],\n",
    "    as_index=False).mean().sort_values(by='Survived', ascending=False)"
   ]
  },
  {
   "cell_type": "markdown",
   "metadata": {},
   "source": [
    "### 4.7 create new feature: IsAlone"
   ]
  },
  {
   "cell_type": "code",
   "execution_count": 41,
   "metadata": {},
   "outputs": [
    {
     "data": {
      "text/html": [
       "<div>\n",
       "<style scoped>\n",
       "    .dataframe tbody tr th:only-of-type {\n",
       "        vertical-align: middle;\n",
       "    }\n",
       "\n",
       "    .dataframe tbody tr th {\n",
       "        vertical-align: top;\n",
       "    }\n",
       "\n",
       "    .dataframe thead th {\n",
       "        text-align: right;\n",
       "    }\n",
       "</style>\n",
       "<table border=\"1\" class=\"dataframe\">\n",
       "  <thead>\n",
       "    <tr style=\"text-align: right;\">\n",
       "      <th></th>\n",
       "      <th>IsAlone</th>\n",
       "      <th>Survived</th>\n",
       "    </tr>\n",
       "  </thead>\n",
       "  <tbody>\n",
       "    <tr>\n",
       "      <th>0</th>\n",
       "      <td>0</td>\n",
       "      <td>0.505650</td>\n",
       "    </tr>\n",
       "    <tr>\n",
       "      <th>1</th>\n",
       "      <td>1</td>\n",
       "      <td>0.303538</td>\n",
       "    </tr>\n",
       "  </tbody>\n",
       "</table>\n",
       "</div>"
      ],
      "text/plain": [
       "   IsAlone  Survived\n",
       "0        0  0.505650\n",
       "1        1  0.303538"
      ]
     },
     "execution_count": 41,
     "metadata": {},
     "output_type": "execute_result"
    }
   ],
   "source": [
    "# create new feature IsAlone\n",
    "data_df['IsAlone'] = 0\n",
    "data_df.loc[data_df['FamilySize'] == 1, 'IsAlone'] = 1\n",
    "data_df[['IsAlone', 'Survived']].groupby(['IsAlone'], as_index=False).mean()"
   ]
  },
  {
   "cell_type": "markdown",
   "metadata": {},
   "source": [
    "> df.loc: integer-location based indexing for selection by position."
   ]
  },
  {
   "cell_type": "markdown",
   "metadata": {},
   "source": [
    "### 4.8 create new feature: Age*Pclass"
   ]
  },
  {
   "cell_type": "code",
   "execution_count": 42,
   "metadata": {},
   "outputs": [
    {
     "data": {
      "text/html": [
       "<div>\n",
       "<style scoped>\n",
       "    .dataframe tbody tr th:only-of-type {\n",
       "        vertical-align: middle;\n",
       "    }\n",
       "\n",
       "    .dataframe tbody tr th {\n",
       "        vertical-align: top;\n",
       "    }\n",
       "\n",
       "    .dataframe thead th {\n",
       "        text-align: right;\n",
       "    }\n",
       "</style>\n",
       "<table border=\"1\" class=\"dataframe\">\n",
       "  <thead>\n",
       "    <tr style=\"text-align: right;\">\n",
       "      <th></th>\n",
       "      <th>AgeBin*Pclass</th>\n",
       "      <th>Survived</th>\n",
       "    </tr>\n",
       "  </thead>\n",
       "  <tbody>\n",
       "    <tr>\n",
       "      <th>0</th>\n",
       "      <td>0.0</td>\n",
       "      <td>0.414097</td>\n",
       "    </tr>\n",
       "    <tr>\n",
       "      <th>1</th>\n",
       "      <td>1.0</td>\n",
       "      <td>0.750000</td>\n",
       "    </tr>\n",
       "    <tr>\n",
       "      <th>2</th>\n",
       "      <td>2.0</td>\n",
       "      <td>0.575342</td>\n",
       "    </tr>\n",
       "    <tr>\n",
       "      <th>3</th>\n",
       "      <td>3.0</td>\n",
       "      <td>0.236967</td>\n",
       "    </tr>\n",
       "    <tr>\n",
       "      <th>4</th>\n",
       "      <td>4.0</td>\n",
       "      <td>0.511111</td>\n",
       "    </tr>\n",
       "    <tr>\n",
       "      <th>5</th>\n",
       "      <td>6.0</td>\n",
       "      <td>0.391667</td>\n",
       "    </tr>\n",
       "    <tr>\n",
       "      <th>6</th>\n",
       "      <td>8.0</td>\n",
       "      <td>0.382353</td>\n",
       "    </tr>\n",
       "    <tr>\n",
       "      <th>7</th>\n",
       "      <td>9.0</td>\n",
       "      <td>0.120000</td>\n",
       "    </tr>\n",
       "    <tr>\n",
       "      <th>8</th>\n",
       "      <td>12.0</td>\n",
       "      <td>0.078947</td>\n",
       "    </tr>\n",
       "  </tbody>\n",
       "</table>\n",
       "</div>"
      ],
      "text/plain": [
       "   AgeBin*Pclass  Survived\n",
       "0            0.0  0.414097\n",
       "1            1.0  0.750000\n",
       "2            2.0  0.575342\n",
       "3            3.0  0.236967\n",
       "4            4.0  0.511111\n",
       "5            6.0  0.391667\n",
       "6            8.0  0.382353\n",
       "7            9.0  0.120000\n",
       "8           12.0  0.078947"
      ]
     },
     "execution_count": 42,
     "metadata": {},
     "output_type": "execute_result"
    }
   ],
   "source": [
    "# create new feature Age*Pclass\n",
    "data_df['AgeBin*Pclass'] = data_df.AgeBin * data_df.Pclass\n",
    "data_df[['AgeBin*Pclass', 'Survived']].groupby(['AgeBin*Pclass'], as_index=False).mean()\n"
   ]
  },
  {
   "cell_type": "markdown",
   "metadata": {},
   "source": [
    "### 4.9 create new feature: HasCabin"
   ]
  },
  {
   "cell_type": "code",
   "execution_count": 43,
   "metadata": {},
   "outputs": [
    {
     "data": {
      "text/html": [
       "<div>\n",
       "<style scoped>\n",
       "    .dataframe tbody tr th:only-of-type {\n",
       "        vertical-align: middle;\n",
       "    }\n",
       "\n",
       "    .dataframe tbody tr th {\n",
       "        vertical-align: top;\n",
       "    }\n",
       "\n",
       "    .dataframe thead th {\n",
       "        text-align: right;\n",
       "    }\n",
       "</style>\n",
       "<table border=\"1\" class=\"dataframe\">\n",
       "  <thead>\n",
       "    <tr style=\"text-align: right;\">\n",
       "      <th></th>\n",
       "      <th>HasCabin</th>\n",
       "      <th>Survived</th>\n",
       "    </tr>\n",
       "  </thead>\n",
       "  <tbody>\n",
       "    <tr>\n",
       "      <th>0</th>\n",
       "      <td>0</td>\n",
       "      <td>0.299854</td>\n",
       "    </tr>\n",
       "    <tr>\n",
       "      <th>1</th>\n",
       "      <td>1</td>\n",
       "      <td>0.666667</td>\n",
       "    </tr>\n",
       "  </tbody>\n",
       "</table>\n",
       "</div>"
      ],
      "text/plain": [
       "   HasCabin  Survived\n",
       "0         0  0.299854\n",
       "1         1  0.666667"
      ]
     },
     "execution_count": 43,
     "metadata": {},
     "output_type": "execute_result"
    }
   ],
   "source": [
    "# create feature that tells whether a passenger had a cabin on the Titanic\n",
    "data_df['HasCabin'] = data_df[\"Cabin\"].apply(lambda x: 0 if type(x) == float else 1) #type(Nan)=float\n",
    "data_df[['HasCabin', 'Survived']].groupby(['HasCabin'], as_index=False).mean()"
   ]
  },
  {
   "cell_type": "code",
   "execution_count": 44,
   "metadata": {},
   "outputs": [
    {
     "data": {
      "text/plain": [
       "str"
      ]
     },
     "execution_count": 44,
     "metadata": {},
     "output_type": "execute_result"
    }
   ],
   "source": [
    "type(data_df[\"Cabin\"][1])"
   ]
  },
  {
   "cell_type": "markdown",
   "metadata": {},
   "source": [
    "### 4.10 drop features"
   ]
  },
  {
   "cell_type": "code",
   "execution_count": 45,
   "metadata": {},
   "outputs": [
    {
     "data": {
      "text/html": [
       "<div>\n",
       "<style scoped>\n",
       "    .dataframe tbody tr th:only-of-type {\n",
       "        vertical-align: middle;\n",
       "    }\n",
       "\n",
       "    .dataframe tbody tr th {\n",
       "        vertical-align: top;\n",
       "    }\n",
       "\n",
       "    .dataframe thead th {\n",
       "        text-align: right;\n",
       "    }\n",
       "</style>\n",
       "<table border=\"1\" class=\"dataframe\">\n",
       "  <thead>\n",
       "    <tr style=\"text-align: right;\">\n",
       "      <th></th>\n",
       "      <th>Age</th>\n",
       "      <th>Cabin</th>\n",
       "      <th>Embarked</th>\n",
       "      <th>Fare</th>\n",
       "      <th>Name</th>\n",
       "      <th>Parch</th>\n",
       "      <th>PassengerId</th>\n",
       "      <th>Pclass</th>\n",
       "      <th>Sex</th>\n",
       "      <th>SibSp</th>\n",
       "      <th>Survived</th>\n",
       "      <th>Ticket</th>\n",
       "      <th>AgeBin</th>\n",
       "      <th>Title</th>\n",
       "      <th>FamilySize</th>\n",
       "      <th>IsAlone</th>\n",
       "      <th>AgeBin*Pclass</th>\n",
       "      <th>HasCabin</th>\n",
       "    </tr>\n",
       "  </thead>\n",
       "  <tbody>\n",
       "    <tr>\n",
       "      <th>0</th>\n",
       "      <td>22</td>\n",
       "      <td>NaN</td>\n",
       "      <td>S</td>\n",
       "      <td>7.2500</td>\n",
       "      <td>Braund, Mr. Owen Harris</td>\n",
       "      <td>0</td>\n",
       "      <td>1</td>\n",
       "      <td>3</td>\n",
       "      <td>0</td>\n",
       "      <td>1</td>\n",
       "      <td>0.0</td>\n",
       "      <td>A/5 21171</td>\n",
       "      <td>1.0</td>\n",
       "      <td>Mr</td>\n",
       "      <td>2</td>\n",
       "      <td>0</td>\n",
       "      <td>3.0</td>\n",
       "      <td>0</td>\n",
       "    </tr>\n",
       "    <tr>\n",
       "      <th>1</th>\n",
       "      <td>38</td>\n",
       "      <td>C85</td>\n",
       "      <td>C</td>\n",
       "      <td>71.2833</td>\n",
       "      <td>Cumings, Mrs. John Bradley (Florence Briggs Th...</td>\n",
       "      <td>0</td>\n",
       "      <td>2</td>\n",
       "      <td>1</td>\n",
       "      <td>1</td>\n",
       "      <td>1</td>\n",
       "      <td>1.0</td>\n",
       "      <td>PC 17599</td>\n",
       "      <td>3.0</td>\n",
       "      <td>Mrs</td>\n",
       "      <td>2</td>\n",
       "      <td>0</td>\n",
       "      <td>3.0</td>\n",
       "      <td>1</td>\n",
       "    </tr>\n",
       "    <tr>\n",
       "      <th>2</th>\n",
       "      <td>26</td>\n",
       "      <td>NaN</td>\n",
       "      <td>S</td>\n",
       "      <td>7.9250</td>\n",
       "      <td>Heikkinen, Miss. Laina</td>\n",
       "      <td>0</td>\n",
       "      <td>3</td>\n",
       "      <td>3</td>\n",
       "      <td>1</td>\n",
       "      <td>0</td>\n",
       "      <td>1.0</td>\n",
       "      <td>STON/O2. 3101282</td>\n",
       "      <td>1.0</td>\n",
       "      <td>Miss</td>\n",
       "      <td>1</td>\n",
       "      <td>1</td>\n",
       "      <td>3.0</td>\n",
       "      <td>0</td>\n",
       "    </tr>\n",
       "    <tr>\n",
       "      <th>3</th>\n",
       "      <td>35</td>\n",
       "      <td>C123</td>\n",
       "      <td>S</td>\n",
       "      <td>53.1000</td>\n",
       "      <td>Futrelle, Mrs. Jacques Heath (Lily May Peel)</td>\n",
       "      <td>0</td>\n",
       "      <td>4</td>\n",
       "      <td>1</td>\n",
       "      <td>1</td>\n",
       "      <td>1</td>\n",
       "      <td>1.0</td>\n",
       "      <td>113803</td>\n",
       "      <td>2.0</td>\n",
       "      <td>Mrs</td>\n",
       "      <td>2</td>\n",
       "      <td>0</td>\n",
       "      <td>2.0</td>\n",
       "      <td>1</td>\n",
       "    </tr>\n",
       "    <tr>\n",
       "      <th>4</th>\n",
       "      <td>35</td>\n",
       "      <td>NaN</td>\n",
       "      <td>S</td>\n",
       "      <td>8.0500</td>\n",
       "      <td>Allen, Mr. William Henry</td>\n",
       "      <td>0</td>\n",
       "      <td>5</td>\n",
       "      <td>3</td>\n",
       "      <td>0</td>\n",
       "      <td>0</td>\n",
       "      <td>0.0</td>\n",
       "      <td>373450</td>\n",
       "      <td>2.0</td>\n",
       "      <td>Mr</td>\n",
       "      <td>1</td>\n",
       "      <td>1</td>\n",
       "      <td>6.0</td>\n",
       "      <td>0</td>\n",
       "    </tr>\n",
       "  </tbody>\n",
       "</table>\n",
       "</div>"
      ],
      "text/plain": [
       "   Age Cabin Embarked     Fare  \\\n",
       "0   22   NaN        S   7.2500   \n",
       "1   38   C85        C  71.2833   \n",
       "2   26   NaN        S   7.9250   \n",
       "3   35  C123        S  53.1000   \n",
       "4   35   NaN        S   8.0500   \n",
       "\n",
       "                                                Name  Parch  PassengerId  \\\n",
       "0                            Braund, Mr. Owen Harris      0            1   \n",
       "1  Cumings, Mrs. John Bradley (Florence Briggs Th...      0            2   \n",
       "2                             Heikkinen, Miss. Laina      0            3   \n",
       "3       Futrelle, Mrs. Jacques Heath (Lily May Peel)      0            4   \n",
       "4                           Allen, Mr. William Henry      0            5   \n",
       "\n",
       "   Pclass  Sex  SibSp  Survived            Ticket  AgeBin Title  FamilySize  \\\n",
       "0       3    0      1       0.0         A/5 21171     1.0    Mr           2   \n",
       "1       1    1      1       1.0          PC 17599     3.0   Mrs           2   \n",
       "2       3    1      0       1.0  STON/O2. 3101282     1.0  Miss           1   \n",
       "3       1    1      1       1.0            113803     2.0   Mrs           2   \n",
       "4       3    0      0       0.0            373450     2.0    Mr           1   \n",
       "\n",
       "   IsAlone  AgeBin*Pclass  HasCabin  \n",
       "0        0            3.0         0  \n",
       "1        0            3.0         1  \n",
       "2        1            3.0         0  \n",
       "3        0            2.0         1  \n",
       "4        1            6.0         0  "
      ]
     },
     "execution_count": 45,
     "metadata": {},
     "output_type": "execute_result"
    }
   ],
   "source": [
    "data_df.head()"
   ]
  },
  {
   "cell_type": "code",
   "execution_count": 46,
   "metadata": {},
   "outputs": [
    {
     "name": "stdout",
     "output_type": "stream",
     "text": [
      "Age                 0\n",
      "Cabin            1014\n",
      "Embarked            0\n",
      "Fare                1\n",
      "Name                0\n",
      "Parch               0\n",
      "PassengerId         0\n",
      "Pclass              0\n",
      "Sex                 0\n",
      "SibSp               0\n",
      "Survived          418\n",
      "Ticket              0\n",
      "AgeBin              0\n",
      "Title               0\n",
      "FamilySize          0\n",
      "IsAlone             0\n",
      "AgeBin*Pclass       0\n",
      "HasCabin            0\n",
      "dtype: int64\n"
     ]
    }
   ],
   "source": [
    "print(data_df.isnull().sum())"
   ]
  },
  {
   "cell_type": "code",
   "execution_count": 47,
   "metadata": {},
   "outputs": [
    {
     "name": "stdout",
     "output_type": "stream",
     "text": [
      "data_df =  (1309, 14)\n"
     ]
    }
   ],
   "source": [
    "#drop unnecessary features\n",
    "drop_ft = ['PassengerId', 'Name', 'Ticket', 'Cabin']\n",
    "data_df = data_df.drop(drop_ft, axis=1)\n",
    "print(\"data_df = \", data_df.shape)"
   ]
  },
  {
   "cell_type": "code",
   "execution_count": 48,
   "metadata": {},
   "outputs": [
    {
     "data": {
      "text/plain": [
       "(891, 12)"
      ]
     },
     "execution_count": 48,
     "metadata": {},
     "output_type": "execute_result"
    }
   ],
   "source": [
    "train_df.shape"
   ]
  },
  {
   "cell_type": "code",
   "execution_count": 49,
   "metadata": {},
   "outputs": [
    {
     "ename": "ValueError",
     "evalue": "could not convert string to float: 'Master'",
     "output_type": "error",
     "traceback": [
      "\u001b[0;31m---------------------------------------------------------------------------\u001b[0m",
      "\u001b[0;31mValueError\u001b[0m                                Traceback (most recent call last)",
      "\u001b[0;32m<ipython-input-49-e360e68d5c00>\u001b[0m in \u001b[0;36m<module>\u001b[0;34m()\u001b[0m\n\u001b[1;32m      3\u001b[0m \u001b[0mplt\u001b[0m\u001b[0;34m.\u001b[0m\u001b[0mfigure\u001b[0m\u001b[0;34m(\u001b[0m\u001b[0mfigsize\u001b[0m\u001b[0;34m=\u001b[0m\u001b[0;34m(\u001b[0m\u001b[0;36m14\u001b[0m\u001b[0;34m,\u001b[0m\u001b[0;36m12\u001b[0m\u001b[0;34m)\u001b[0m\u001b[0;34m)\u001b[0m\u001b[0;34m\u001b[0m\u001b[0m\n\u001b[1;32m      4\u001b[0m \u001b[0mplt\u001b[0m\u001b[0;34m.\u001b[0m\u001b[0mtitle\u001b[0m\u001b[0;34m(\u001b[0m\u001b[0;34m'Pearson Correlation of Features for Train Set'\u001b[0m\u001b[0;34m,\u001b[0m \u001b[0my\u001b[0m\u001b[0;34m=\u001b[0m\u001b[0;36m1.05\u001b[0m\u001b[0;34m,\u001b[0m \u001b[0msize\u001b[0m\u001b[0;34m=\u001b[0m\u001b[0;36m15\u001b[0m\u001b[0;34m)\u001b[0m\u001b[0;34m\u001b[0m\u001b[0m\n\u001b[0;32m----> 5\u001b[0;31m sns.heatmap(data_df.astype(float).corr(),linewidths=0.1,vmax=1.0, \n\u001b[0m\u001b[1;32m      6\u001b[0m              square=True, cmap=colormap, linecolor='white', annot=True)\n",
      "\u001b[0;32m/Library/Frameworks/Python.framework/Versions/3.6/lib/python3.6/site-packages/pandas/util/_decorators.py\u001b[0m in \u001b[0;36mwrapper\u001b[0;34m(*args, **kwargs)\u001b[0m\n\u001b[1;32m    116\u001b[0m                 \u001b[0;32melse\u001b[0m\u001b[0;34m:\u001b[0m\u001b[0;34m\u001b[0m\u001b[0m\n\u001b[1;32m    117\u001b[0m                     \u001b[0mkwargs\u001b[0m\u001b[0;34m[\u001b[0m\u001b[0mnew_arg_name\u001b[0m\u001b[0;34m]\u001b[0m \u001b[0;34m=\u001b[0m \u001b[0mnew_arg_value\u001b[0m\u001b[0;34m\u001b[0m\u001b[0m\n\u001b[0;32m--> 118\u001b[0;31m             \u001b[0;32mreturn\u001b[0m \u001b[0mfunc\u001b[0m\u001b[0;34m(\u001b[0m\u001b[0;34m*\u001b[0m\u001b[0margs\u001b[0m\u001b[0;34m,\u001b[0m \u001b[0;34m**\u001b[0m\u001b[0mkwargs\u001b[0m\u001b[0;34m)\u001b[0m\u001b[0;34m\u001b[0m\u001b[0m\n\u001b[0m\u001b[1;32m    119\u001b[0m         \u001b[0;32mreturn\u001b[0m \u001b[0mwrapper\u001b[0m\u001b[0;34m\u001b[0m\u001b[0m\n\u001b[1;32m    120\u001b[0m     \u001b[0;32mreturn\u001b[0m \u001b[0m_deprecate_kwarg\u001b[0m\u001b[0;34m\u001b[0m\u001b[0m\n",
      "\u001b[0;32m/Library/Frameworks/Python.framework/Versions/3.6/lib/python3.6/site-packages/pandas/core/generic.py\u001b[0m in \u001b[0;36mastype\u001b[0;34m(self, dtype, copy, errors, **kwargs)\u001b[0m\n\u001b[1;32m   4002\u001b[0m         \u001b[0;31m# else, only a single dtype is given\u001b[0m\u001b[0;34m\u001b[0m\u001b[0;34m\u001b[0m\u001b[0m\n\u001b[1;32m   4003\u001b[0m         new_data = self._data.astype(dtype=dtype, copy=copy, errors=errors,\n\u001b[0;32m-> 4004\u001b[0;31m                                      **kwargs)\n\u001b[0m\u001b[1;32m   4005\u001b[0m         \u001b[0;32mreturn\u001b[0m \u001b[0mself\u001b[0m\u001b[0;34m.\u001b[0m\u001b[0m_constructor\u001b[0m\u001b[0;34m(\u001b[0m\u001b[0mnew_data\u001b[0m\u001b[0;34m)\u001b[0m\u001b[0;34m.\u001b[0m\u001b[0m__finalize__\u001b[0m\u001b[0;34m(\u001b[0m\u001b[0mself\u001b[0m\u001b[0;34m)\u001b[0m\u001b[0;34m\u001b[0m\u001b[0m\n\u001b[1;32m   4006\u001b[0m \u001b[0;34m\u001b[0m\u001b[0m\n",
      "\u001b[0;32m/Library/Frameworks/Python.framework/Versions/3.6/lib/python3.6/site-packages/pandas/core/internals.py\u001b[0m in \u001b[0;36mastype\u001b[0;34m(self, dtype, **kwargs)\u001b[0m\n\u001b[1;32m   3460\u001b[0m \u001b[0;34m\u001b[0m\u001b[0m\n\u001b[1;32m   3461\u001b[0m     \u001b[0;32mdef\u001b[0m \u001b[0mastype\u001b[0m\u001b[0;34m(\u001b[0m\u001b[0mself\u001b[0m\u001b[0;34m,\u001b[0m \u001b[0mdtype\u001b[0m\u001b[0;34m,\u001b[0m \u001b[0;34m**\u001b[0m\u001b[0mkwargs\u001b[0m\u001b[0;34m)\u001b[0m\u001b[0;34m:\u001b[0m\u001b[0;34m\u001b[0m\u001b[0m\n\u001b[0;32m-> 3462\u001b[0;31m         \u001b[0;32mreturn\u001b[0m \u001b[0mself\u001b[0m\u001b[0;34m.\u001b[0m\u001b[0mapply\u001b[0m\u001b[0;34m(\u001b[0m\u001b[0;34m'astype'\u001b[0m\u001b[0;34m,\u001b[0m \u001b[0mdtype\u001b[0m\u001b[0;34m=\u001b[0m\u001b[0mdtype\u001b[0m\u001b[0;34m,\u001b[0m \u001b[0;34m**\u001b[0m\u001b[0mkwargs\u001b[0m\u001b[0;34m)\u001b[0m\u001b[0;34m\u001b[0m\u001b[0m\n\u001b[0m\u001b[1;32m   3463\u001b[0m \u001b[0;34m\u001b[0m\u001b[0m\n\u001b[1;32m   3464\u001b[0m     \u001b[0;32mdef\u001b[0m \u001b[0mconvert\u001b[0m\u001b[0;34m(\u001b[0m\u001b[0mself\u001b[0m\u001b[0;34m,\u001b[0m \u001b[0;34m**\u001b[0m\u001b[0mkwargs\u001b[0m\u001b[0;34m)\u001b[0m\u001b[0;34m:\u001b[0m\u001b[0;34m\u001b[0m\u001b[0m\n",
      "\u001b[0;32m/Library/Frameworks/Python.framework/Versions/3.6/lib/python3.6/site-packages/pandas/core/internals.py\u001b[0m in \u001b[0;36mapply\u001b[0;34m(self, f, axes, filter, do_integrity_check, consolidate, **kwargs)\u001b[0m\n\u001b[1;32m   3327\u001b[0m \u001b[0;34m\u001b[0m\u001b[0m\n\u001b[1;32m   3328\u001b[0m             \u001b[0mkwargs\u001b[0m\u001b[0;34m[\u001b[0m\u001b[0;34m'mgr'\u001b[0m\u001b[0;34m]\u001b[0m \u001b[0;34m=\u001b[0m \u001b[0mself\u001b[0m\u001b[0;34m\u001b[0m\u001b[0m\n\u001b[0;32m-> 3329\u001b[0;31m             \u001b[0mapplied\u001b[0m \u001b[0;34m=\u001b[0m \u001b[0mgetattr\u001b[0m\u001b[0;34m(\u001b[0m\u001b[0mb\u001b[0m\u001b[0;34m,\u001b[0m \u001b[0mf\u001b[0m\u001b[0;34m)\u001b[0m\u001b[0;34m(\u001b[0m\u001b[0;34m**\u001b[0m\u001b[0mkwargs\u001b[0m\u001b[0;34m)\u001b[0m\u001b[0;34m\u001b[0m\u001b[0m\n\u001b[0m\u001b[1;32m   3330\u001b[0m             \u001b[0mresult_blocks\u001b[0m \u001b[0;34m=\u001b[0m \u001b[0m_extend_blocks\u001b[0m\u001b[0;34m(\u001b[0m\u001b[0mapplied\u001b[0m\u001b[0;34m,\u001b[0m \u001b[0mresult_blocks\u001b[0m\u001b[0;34m)\u001b[0m\u001b[0;34m\u001b[0m\u001b[0m\n\u001b[1;32m   3331\u001b[0m \u001b[0;34m\u001b[0m\u001b[0m\n",
      "\u001b[0;32m/Library/Frameworks/Python.framework/Versions/3.6/lib/python3.6/site-packages/pandas/core/internals.py\u001b[0m in \u001b[0;36mastype\u001b[0;34m(self, dtype, copy, errors, values, **kwargs)\u001b[0m\n\u001b[1;32m    542\u001b[0m     \u001b[0;32mdef\u001b[0m \u001b[0mastype\u001b[0m\u001b[0;34m(\u001b[0m\u001b[0mself\u001b[0m\u001b[0;34m,\u001b[0m \u001b[0mdtype\u001b[0m\u001b[0;34m,\u001b[0m \u001b[0mcopy\u001b[0m\u001b[0;34m=\u001b[0m\u001b[0;32mFalse\u001b[0m\u001b[0;34m,\u001b[0m \u001b[0merrors\u001b[0m\u001b[0;34m=\u001b[0m\u001b[0;34m'raise'\u001b[0m\u001b[0;34m,\u001b[0m \u001b[0mvalues\u001b[0m\u001b[0;34m=\u001b[0m\u001b[0;32mNone\u001b[0m\u001b[0;34m,\u001b[0m \u001b[0;34m**\u001b[0m\u001b[0mkwargs\u001b[0m\u001b[0;34m)\u001b[0m\u001b[0;34m:\u001b[0m\u001b[0;34m\u001b[0m\u001b[0m\n\u001b[1;32m    543\u001b[0m         return self._astype(dtype, copy=copy, errors=errors, values=values,\n\u001b[0;32m--> 544\u001b[0;31m                             **kwargs)\n\u001b[0m\u001b[1;32m    545\u001b[0m \u001b[0;34m\u001b[0m\u001b[0m\n\u001b[1;32m    546\u001b[0m     def _astype(self, dtype, copy=False, errors='raise', values=None,\n",
      "\u001b[0;32m/Library/Frameworks/Python.framework/Versions/3.6/lib/python3.6/site-packages/pandas/core/internals.py\u001b[0m in \u001b[0;36m_astype\u001b[0;34m(self, dtype, copy, errors, values, klass, mgr, **kwargs)\u001b[0m\n\u001b[1;32m    623\u001b[0m \u001b[0;34m\u001b[0m\u001b[0m\n\u001b[1;32m    624\u001b[0m                 \u001b[0;31m# _astype_nansafe works fine with 1-d only\u001b[0m\u001b[0;34m\u001b[0m\u001b[0;34m\u001b[0m\u001b[0m\n\u001b[0;32m--> 625\u001b[0;31m                 \u001b[0mvalues\u001b[0m \u001b[0;34m=\u001b[0m \u001b[0mastype_nansafe\u001b[0m\u001b[0;34m(\u001b[0m\u001b[0mvalues\u001b[0m\u001b[0;34m.\u001b[0m\u001b[0mravel\u001b[0m\u001b[0;34m(\u001b[0m\u001b[0;34m)\u001b[0m\u001b[0;34m,\u001b[0m \u001b[0mdtype\u001b[0m\u001b[0;34m,\u001b[0m \u001b[0mcopy\u001b[0m\u001b[0;34m=\u001b[0m\u001b[0;32mTrue\u001b[0m\u001b[0;34m)\u001b[0m\u001b[0;34m\u001b[0m\u001b[0m\n\u001b[0m\u001b[1;32m    626\u001b[0m                 \u001b[0mvalues\u001b[0m \u001b[0;34m=\u001b[0m \u001b[0mvalues\u001b[0m\u001b[0;34m.\u001b[0m\u001b[0mreshape\u001b[0m\u001b[0;34m(\u001b[0m\u001b[0mself\u001b[0m\u001b[0;34m.\u001b[0m\u001b[0mshape\u001b[0m\u001b[0;34m)\u001b[0m\u001b[0;34m\u001b[0m\u001b[0m\n\u001b[1;32m    627\u001b[0m \u001b[0;34m\u001b[0m\u001b[0m\n",
      "\u001b[0;32m/Library/Frameworks/Python.framework/Versions/3.6/lib/python3.6/site-packages/pandas/core/dtypes/cast.py\u001b[0m in \u001b[0;36mastype_nansafe\u001b[0;34m(arr, dtype, copy)\u001b[0m\n\u001b[1;32m    701\u001b[0m \u001b[0;34m\u001b[0m\u001b[0m\n\u001b[1;32m    702\u001b[0m     \u001b[0;32mif\u001b[0m \u001b[0mcopy\u001b[0m\u001b[0;34m:\u001b[0m\u001b[0;34m\u001b[0m\u001b[0m\n\u001b[0;32m--> 703\u001b[0;31m         \u001b[0;32mreturn\u001b[0m \u001b[0marr\u001b[0m\u001b[0;34m.\u001b[0m\u001b[0mastype\u001b[0m\u001b[0;34m(\u001b[0m\u001b[0mdtype\u001b[0m\u001b[0;34m)\u001b[0m\u001b[0;34m\u001b[0m\u001b[0m\n\u001b[0m\u001b[1;32m    704\u001b[0m     \u001b[0;32mreturn\u001b[0m \u001b[0marr\u001b[0m\u001b[0;34m.\u001b[0m\u001b[0mview\u001b[0m\u001b[0;34m(\u001b[0m\u001b[0mdtype\u001b[0m\u001b[0;34m)\u001b[0m\u001b[0;34m\u001b[0m\u001b[0m\n\u001b[1;32m    705\u001b[0m \u001b[0;34m\u001b[0m\u001b[0m\n",
      "\u001b[0;31mValueError\u001b[0m: could not convert string to float: 'Master'"
     ]
    },
    {
     "data": {
      "image/png": "[encoded data removed]",
      "text/plain": [
       "<matplotlib.figure.Figure at 0x115160320>"
      ]
     },
     "metadata": {},
     "output_type": "display_data"
    }
   ],
   "source": [
    "# pearson correlation of features\n",
    "colormap = plt.cm.RdBu #create a colored map\n",
    "plt.figure(figsize=(14,12))\n",
    "plt.title('Pearson Correlation of Features for Train Set', y=1.05, size=15)\n",
    "sns.heatmap(data_df.astype(float).corr(),linewidths=0.1,vmax=1.0, \n",
    "             square=True, cmap=colormap, linecolor='white', annot=True)"
   ]
  },
  {
   "cell_type": "code",
   "execution_count": null,
   "metadata": {},
   "outputs": [],
   "source": []
  }
 ],
 "metadata": {
  "kernelspec": {
   "display_name": "Python 3",
   "language": "python",
   "name": "python3"
  },
  "language_info": {
   "codemirror_mode": {
    "name": "ipython",
    "version": 3
   },
   "file_extension": ".py",
   "mimetype": "text/x-python",
   "name": "python",
   "nbconvert_exporter": "python",
   "pygments_lexer": "ipython3",
   "version": "3.6.2"
  }
 },
 "nbformat": 4,
 "nbformat_minor": 2
}
